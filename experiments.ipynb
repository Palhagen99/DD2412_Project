{
 "cells": [
  {
   "cell_type": "code",
   "execution_count": null,
   "metadata": {},
   "outputs": [],
   "source": [
    "import os\n",
    "import torch\n",
    "\n",
    "from models_mae import *\n",
    "from train import *\n",
    "from utils import eval_model\n",
    "from eval import *\n",
    "\n",
    "videos_path = './DAVIS/JPEGImages/480p/'\n",
    "labels_path = './DAVIS/Annotations/480p/'\n",
    "video_names = [f for f in os.listdir(videos_path) if os.path.isdir(os.path.join(videos_path, f))]\n",
    "device = torch.device(\"cuda\" if torch.cuda.is_available() else \"cpu\")"
   ]
  },
  {
   "cell_type": "code",
   "execution_count": null,
   "metadata": {},
   "outputs": [],
   "source": [
    "model_path = \"./epoch95.pt\"\n",
    "model = sim_mae_vit_tiny_patch8_dec512d8b()\n",
    "model = model.to(device)\n",
    "state_dict = torch.load(model_path)\n",
    "state_dict = {k.replace(\"module.\", \"\"): v for k, v in state_dict.items()}\n",
    "model.load_state_dict(state_dict)\n",
    "\n",
    "for video_name in video_names:\n",
    "    eval_video(model, \"MASK_95\", video_name, videos_path, labels_path, queue_length=20, topk=7, size_neighbourhood=7, output_dir=\"./outputs/\")\n",
    "eval_model(video_names, videos_path, labels_path, \"./outputs/\", \"MASK_95\")"
   ]
  },
  {
   "cell_type": "code",
   "execution_count": null,
   "metadata": {},
   "outputs": [],
   "source": [
    "model_path = \"./epoch50.pt\"\n",
    "model = sim_mae_vit_tiny_patch8_dec512d8b(mask_ratio=0.5)\n",
    "model = model.to(device)\n",
    "state_dict = torch.load(model_path)\n",
    "state_dict = {k.replace(\"module.\", \"\"): v for k, v in state_dict.items()}\n",
    "model.load_state_dict(state_dict)\n",
    "\n",
    "for video_name in video_names:\n",
    "    eval_video(model, \"MASK_50\", video_name, videos_path, labels_path, queue_length=20, topk=7, size_neighbourhood=7, output_dir=\"./outputs/\")\n",
    "eval_model(video_names, videos_path, labels_path, \"./outputs/\", \"MASK_50\")"
   ]
  },
  {
   "cell_type": "code",
   "execution_count": null,
   "metadata": {},
   "outputs": [],
   "source": [
    "model_path = \"./epoch75.pt\"\n",
    "model = sim_mae_vit_tiny_patch8_dec512d8b()\n",
    "model = model.to(device)\n",
    "state_dict = torch.load(model_path)\n",
    "state_dict = {k.replace(\"module.\", \"\"): v for k, v in state_dict.items()}\n",
    "model.load_state_dict(state_dict)\n",
    "\n",
    "for video_name in video_names:\n",
    "    eval_davis(model, \"MASK_75\", video_name, videos_path, labels_path, queue_length=20, topk=7, size_neighbourhood=7, output_dir=\"./outputs/\")\n",
    "eval_model(video_names, videos_path, labels_path, \"./outputs/\", \"MASK_75\")"
   ]
  },
  {
   "cell_type": "code",
   "execution_count": null,
   "metadata": {},
   "outputs": [],
   "source": [
    "model_path = \"./epoch90.pt\"\n",
    "model = sim_mae_vit_tiny_patch8_dec512d8b(mask_ratio=0.9)\n",
    "model = model.to(device)\n",
    "state_dict = torch.load(model_path)\n",
    "state_dict = {k.replace(\"module.\", \"\"): v for k, v in state_dict.items()}\n",
    "model.load_state_dict(state_dict)\n",
    "\n",
    "for video_name in video_names:\n",
    "    eval_video(model, \"MASK_90\", video_name, videos_path, labels_path, queue_length=20, topk=7, size_neighbourhood=7, output_dir=\"./outputs/\")\n",
    "eval_model(video_names, videos_path, labels_path, \"./outputs/\", \"MASK_90\")"
   ]
  },
  {
   "cell_type": "code",
   "execution_count": null,
   "metadata": {},
   "outputs": [],
   "source": [
    "model_path = \"./JOINT_ENC_DEC_5.pt\"\n",
    "model = sim_mae_vit_tiny_patch8_dec512d8b(use_joint_enc=True, use_joint_dec=True)\n",
    "model = model.to(device)\n",
    "state_dict = torch.load(model_path)\n",
    "state_dict = {k.replace(\"module.\", \"\"): v for k, v in state_dict.items()}\n",
    "model.load_state_dict(state_dict)\n",
    "\n",
    "test_name = \"JOINT_ENC_DEC_5\"\n",
    "\n",
    "for video_name in video_names:\n",
    "    eval_video(model, test_name, video_name, videos_path, labels_path, queue_length=20, topk=7, size_neighbourhood=7, output_dir=\"./outputs/\")\n",
    "eval_model(video_names, videos_path, labels_path, \"./outputs/\", test_name)"
   ]
  },
  {
   "cell_type": "code",
   "execution_count": null,
   "metadata": {},
   "outputs": [],
   "source": [
    "model_path = \"./SIAM_CROSS_5.pt\"\n",
    "model = sim_mae_vit_tiny_patch8_dec512d8b()\n",
    "model = model.to(device)\n",
    "state_dict = torch.load(model_path)\n",
    "state_dict = {k.replace(\"module.\", \"\"): v for k, v in state_dict.items()}\n",
    "model.load_state_dict(state_dict)\n",
    "\n",
    "test_name = \"SIAM_CROSS_5\"\n",
    "\n",
    "for video_name in video_names:\n",
    "    eval_video(model, test_name, video_name, videos_path, labels_path, queue_length=20, topk=7, size_neighbourhood=7, output_dir=\"./outputs/\")\n",
    "eval_model(video_names, videos_path, labels_path, \"./outputs/\", test_name)"
   ]
  },
  {
   "cell_type": "code",
   "execution_count": null,
   "metadata": {},
   "outputs": [],
   "source": [
    "model_path = \"./SIAM_JOINT_DEC_5.pt\"\n",
    "model = sim_mae_vit_tiny_patch8_dec512d8b(use_joint_dec=True)\n",
    "model = model.to(device)\n",
    "state_dict = torch.load(model_path)\n",
    "state_dict = {k.replace(\"module.\", \"\"): v for k, v in state_dict.items()}\n",
    "model.load_state_dict(state_dict)\n",
    "\n",
    "test_name = \"SIAM_JOINT_DEC_5\"\n",
    "\n",
    "for video_name in video_names:\n",
    "    eval_video(model, test_name, video_name, videos_path, labels_path, queue_length=20, topk=7, size_neighbourhood=7, output_dir=\"./outputs/\")\n",
    "eval_model(video_names, videos_path, labels_path, \"./outputs/\", test_name)"
   ]
  }
 ],
 "metadata": {
  "kernelspec": {
   "display_name": "evit_env",
   "language": "python",
   "name": "python3"
  },
  "language_info": {
   "codemirror_mode": {
    "name": "ipython",
    "version": 3
   },
   "file_extension": ".py",
   "mimetype": "text/x-python",
   "name": "python",
   "nbconvert_exporter": "python",
   "pygments_lexer": "ipython3",
   "version": "3.10.15"
  }
 },
 "nbformat": 4,
 "nbformat_minor": 2
}
