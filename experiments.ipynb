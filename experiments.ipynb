{
 "cells": [
  {
   "cell_type": "code",
   "execution_count": null,
   "metadata": {},
   "outputs": [
    {
     "name": "stderr",
     "output_type": "stream",
     "text": [
      "/opt/anaconda/envs/evit_env/lib/python3.10/site-packages/tqdm/auto.py:21: TqdmWarning: IProgress not found. Please update jupyter and ipywidgets. See https://ipywidgets.readthedocs.io/en/stable/user_install.html\n",
      "  from .autonotebook import tqdm as notebook_tqdm\n"
     ]
    }
   ],
   "source": [
    "import os\n",
    "import torch\n",
    "\n",
    "from models_mae import *\n",
    "from train import *\n",
    "from utils import eval_model\n",
    "from eval import *\n",
    "\n",
    "videos_path = './DAVIS/JPEGImages/480p/'\n",
    "labels_path = './DAVIS/Annotations/480p/'\n",
    "video_names = [f for f in os.listdir(videos_path) if os.path.isdir(os.path.join(videos_path, f))]\n",
    "device = torch.device(\"cuda\" if torch.cuda.is_available() else \"cpu\")"
   ]
  },
  {
   "cell_type": "code",
   "execution_count": null,
   "metadata": {},
   "outputs": [
    {
     "name": "stderr",
     "output_type": "stream",
     "text": [
      "/tmp/ipykernel_266134/3874335921.py:4: FutureWarning: You are using `torch.load` with `weights_only=False` (the current default value), which uses the default pickle module implicitly. It is possible to construct malicious pickle data which will execute arbitrary code during unpickling (See https://github.com/pytorch/pytorch/blob/main/SECURITY.md#untrusted-models for more details). In a future release, the default value for `weights_only` will be flipped to `True`. This limits the functions that could be executed during unpickling. Arbitrary objects will no longer be allowed to be loaded via this mode unless they are explicitly allowlisted by the user via `torch.serialization.add_safe_globals`. We recommend you start setting `weights_only=True` for any use case where you don't have full control of the loaded file. Please open an issue on GitHub for any issues related to this experimental feature.\n",
      "  state_dict = torch.load(model_path)\n"
     ]
    },
    {
     "data": {
      "text/plain": [
       "<All keys matched successfully>"
      ]
     },
     "execution_count": 6,
     "metadata": {},
     "output_type": "execute_result"
    }
   ],
   "source": [
    "model_path = \"./epoch95.pt\"\n",
    "model = sim_mae_vit_tiny_patch8_dec512d8b()\n",
    "model = model.to(device)\n",
    "state_dict = torch.load(model_path)\n",
    "state_dict = {k.replace(\"module.\", \"\"): v for k, v in state_dict.items()}\n",
    "model.load_state_dict(state_dict)\n",
    "\n",
    "for video_name in video_names:\n",
    "    eval_video(model, \"MASK_95\", video_name, videos_path, labels_path, queue_length=20, topk=7, size_neighbourhood=7, output_dir=\"./outputs/\")\n",
    "eval_model(video_names, videos_path, labels_path, \"./outputs/\", \"MASK_95\")"
   ]
  },
  {
   "cell_type": "code",
   "execution_count": null,
   "metadata": {},
   "outputs": [
    {
     "name": "stderr",
     "output_type": "stream",
     "text": [
      "/tmp/ipykernel_266134/3914665025.py:4: FutureWarning: You are using `torch.load` with `weights_only=False` (the current default value), which uses the default pickle module implicitly. It is possible to construct malicious pickle data which will execute arbitrary code during unpickling (See https://github.com/pytorch/pytorch/blob/main/SECURITY.md#untrusted-models for more details). In a future release, the default value for `weights_only` will be flipped to `True`. This limits the functions that could be executed during unpickling. Arbitrary objects will no longer be allowed to be loaded via this mode unless they are explicitly allowlisted by the user via `torch.serialization.add_safe_globals`. We recommend you start setting `weights_only=True` for any use case where you don't have full control of the loaded file. Please open an issue on GitHub for any issues related to this experimental feature.\n",
      "  state_dict = torch.load(model_path)\n"
     ]
    },
    {
     "data": {
      "text/plain": [
       "<All keys matched successfully>"
      ]
     },
     "execution_count": 4,
     "metadata": {},
     "output_type": "execute_result"
    }
   ],
   "source": [
    "model_path = \"./epoch50.pt\"\n",
    "model = sim_mae_vit_tiny_patch8_dec512d8b(mask_ratio=0.5)\n",
    "model = model.to(device)\n",
    "state_dict = torch.load(model_path)\n",
    "state_dict = {k.replace(\"module.\", \"\"): v for k, v in state_dict.items()}\n",
    "model.load_state_dict(state_dict)\n",
    "\n",
    "for video_name in video_names:\n",
    "    eval_video(model, \"MASK_50\", video_name, videos_path, labels_path, queue_length=20, topk=7, size_neighbourhood=7, output_dir=\"./outputs/\")\n",
    "eval_model(video_names, videos_path, labels_path, \"./outputs/\", \"MASK_50\")"
   ]
  },
  {
   "cell_type": "code",
   "execution_count": null,
   "metadata": {},
   "outputs": [
    {
     "name": "stderr",
     "output_type": "stream",
     "text": [
      "/tmp/ipykernel_266134/2064798872.py:4: FutureWarning: You are using `torch.load` with `weights_only=False` (the current default value), which uses the default pickle module implicitly. It is possible to construct malicious pickle data which will execute arbitrary code during unpickling (See https://github.com/pytorch/pytorch/blob/main/SECURITY.md#untrusted-models for more details). In a future release, the default value for `weights_only` will be flipped to `True`. This limits the functions that could be executed during unpickling. Arbitrary objects will no longer be allowed to be loaded via this mode unless they are explicitly allowlisted by the user via `torch.serialization.add_safe_globals`. We recommend you start setting `weights_only=True` for any use case where you don't have full control of the loaded file. Please open an issue on GitHub for any issues related to this experimental feature.\n",
      "  state_dict = torch.load(model_path)\n"
     ]
    },
    {
     "data": {
      "text/plain": [
       "<All keys matched successfully>"
      ]
     },
     "execution_count": 3,
     "metadata": {},
     "output_type": "execute_result"
    }
   ],
   "source": [
    "model_path = \"./epoch75.pt\"\n",
    "model = sim_mae_vit_tiny_patch8_dec512d8b()\n",
    "model = model.to(device)\n",
    "state_dict = torch.load(model_path)\n",
    "state_dict = {k.replace(\"module.\", \"\"): v for k, v in state_dict.items()}\n",
    "model.load_state_dict(state_dict)\n",
    "\n",
    "for video_name in video_names:\n",
    "    eval_davis(model, \"MASK_75\", video_name, videos_path, labels_path, queue_length=20, topk=7, size_neighbourhood=7, output_dir=\"./outputs/\")\n",
    "eval_model(video_names, videos_path, labels_path, \"./outputs/\", \"MASK_75\")"
   ]
  },
  {
   "cell_type": "code",
   "execution_count": null,
   "metadata": {},
   "outputs": [
    {
     "name": "stderr",
     "output_type": "stream",
     "text": [
      "/tmp/ipykernel_264193/1512924600.py:4: FutureWarning: You are using `torch.load` with `weights_only=False` (the current default value), which uses the default pickle module implicitly. It is possible to construct malicious pickle data which will execute arbitrary code during unpickling (See https://github.com/pytorch/pytorch/blob/main/SECURITY.md#untrusted-models for more details). In a future release, the default value for `weights_only` will be flipped to `True`. This limits the functions that could be executed during unpickling. Arbitrary objects will no longer be allowed to be loaded via this mode unless they are explicitly allowlisted by the user via `torch.serialization.add_safe_globals`. We recommend you start setting `weights_only=True` for any use case where you don't have full control of the loaded file. Please open an issue on GitHub for any issues related to this experimental feature.\n",
      "  state_dict = torch.load(model_path)\n"
     ]
    },
    {
     "data": {
      "text/plain": [
       "<All keys matched successfully>"
      ]
     },
     "execution_count": 7,
     "metadata": {},
     "output_type": "execute_result"
    }
   ],
   "source": [
    "model_path = \"./epoch90.pt\"\n",
    "model = sim_mae_vit_tiny_patch8_dec512d8b(mask_ratio=0.9)\n",
    "model = model.to(device)\n",
    "state_dict = torch.load(model_path)\n",
    "state_dict = {k.replace(\"module.\", \"\"): v for k, v in state_dict.items()}\n",
    "model.load_state_dict(state_dict)\n",
    "\n",
    "for video_name in video_names:\n",
    "    eval_video(model, \"MASK_90\", video_name, videos_path, labels_path, queue_length=20, topk=7, size_neighbourhood=7, output_dir=\"./outputs/\")\n",
    "eval_model(video_names, videos_path, labels_path, \"./outputs/\", \"MASK_90\")"
   ]
  },
  {
   "cell_type": "code",
   "execution_count": 2,
   "metadata": {},
   "outputs": [
    {
     "name": "stderr",
     "output_type": "stream",
     "text": [
      "/tmp/ipykernel_264978/2200423418.py:4: FutureWarning: You are using `torch.load` with `weights_only=False` (the current default value), which uses the default pickle module implicitly. It is possible to construct malicious pickle data which will execute arbitrary code during unpickling (See https://github.com/pytorch/pytorch/blob/main/SECURITY.md#untrusted-models for more details). In a future release, the default value for `weights_only` will be flipped to `True`. This limits the functions that could be executed during unpickling. Arbitrary objects will no longer be allowed to be loaded via this mode unless they are explicitly allowlisted by the user via `torch.serialization.add_safe_globals`. We recommend you start setting `weights_only=True` for any use case where you don't have full control of the loaded file. Please open an issue on GitHub for any issues related to this experimental feature.\n",
      "  state_dict = torch.load(model_path)\n",
      "Processing frames:   0%|          | 0/64 [00:00<?, ?it/s]/home/omidfm/DD2412_Project/eval.py:160: UserWarning: torch.sparse.SparseTensor(indices, values, shape, *, device=) is deprecated.  Please use torch.sparse_coo_tensor(indices, values, shape, dtype=, device=). (Triggered internally at ../torch/csrc/utils/tensor_new.cpp:651.)\n",
      "  mask = torch.sparse.FloatTensor(\n",
      "Processing frames: 100%|██████████| 64/64 [00:06<00:00, 10.24it/s]\n",
      "Processing frames: 100%|██████████| 75/75 [00:07<00:00, 10.51it/s]\n",
      "Processing frames: 100%|██████████| 69/69 [00:06<00:00, 10.38it/s]\n",
      "Processing frames: 100%|██████████| 66/66 [00:06<00:00, 10.55it/s]\n",
      "Processing frames: 100%|██████████| 77/77 [00:07<00:00, 10.26it/s]\n",
      "Processing frames: 100%|██████████| 68/68 [00:06<00:00, 10.15it/s]\n",
      "Processing frames: 100%|██████████| 79/79 [00:07<00:00, 10.34it/s]\n",
      "Processing frames: 100%|██████████| 79/79 [00:07<00:00, 10.39it/s]\n",
      "Processing frames: 100%|██████████| 99/99 [00:09<00:00, 10.68it/s]\n",
      "Processing frames: 100%|██████████| 59/59 [00:05<00:00, 10.52it/s]\n",
      "Processing frames: 100%|██████████| 54/54 [00:05<00:00, 10.43it/s]\n",
      "Processing frames: 100%|██████████| 49/49 [00:04<00:00, 10.69it/s]\n",
      "Processing frames: 100%|██████████| 49/49 [00:04<00:00, 10.39it/s]\n",
      "Processing frames: 100%|██████████| 49/49 [00:04<00:00, 10.40it/s]\n",
      "Processing frames: 100%|██████████| 49/49 [00:04<00:00, 10.32it/s]\n",
      "Processing frames: 100%|██████████| 71/71 [00:06<00:00, 10.20it/s]\n",
      "Processing frames: 100%|██████████| 72/72 [00:07<00:00, 10.16it/s]\n",
      "Processing frames: 100%|██████████| 103/103 [00:09<00:00, 10.48it/s]\n",
      "Processing frames: 100%|██████████| 37/37 [00:03<00:00, 10.51it/s]\n",
      "Processing frames: 100%|██████████| 86/86 [00:08<00:00, 10.33it/s]\n",
      "Processing frames: 100%|██████████| 51/51 [00:04<00:00, 10.76it/s]\n",
      "Processing frames: 100%|██████████| 42/42 [00:04<00:00, 10.30it/s]\n",
      "Processing frames: 100%|██████████| 74/74 [00:07<00:00,  9.83it/s]\n",
      "Processing frames: 100%|██████████| 90/90 [00:08<00:00, 10.21it/s]\n",
      "Processing frames: 100%|██████████| 64/64 [00:06<00:00,  9.91it/s]\n",
      "Processing frames: 100%|██████████| 80/80 [00:07<00:00, 10.38it/s]\n",
      "Processing frames: 100%|██████████| 85/85 [00:08<00:00, 10.16it/s]\n",
      "Processing frames: 100%|██████████| 33/33 [00:03<00:00, 10.76it/s]\n",
      "Processing frames: 100%|██████████| 70/70 [00:06<00:00, 10.23it/s]\n",
      "Processing frames: 100%|██████████| 63/63 [00:05<00:00, 10.53it/s]\n",
      "Processing frames: 100%|██████████| 79/79 [00:07<00:00, 10.48it/s]\n",
      "Processing frames: 100%|██████████| 79/79 [00:07<00:00, 10.39it/s]\n",
      "Processing frames: 100%|██████████| 89/89 [00:08<00:00, 10.36it/s]\n",
      "Processing frames: 100%|██████████| 45/45 [00:04<00:00, 10.56it/s]\n",
      "Processing frames: 100%|██████████| 47/47 [00:04<00:00, 10.34it/s]\n",
      "Processing frames: 100%|██████████| 99/99 [00:09<00:00, 10.17it/s]\n",
      "Processing frames: 100%|██████████| 83/83 [00:07<00:00, 10.58it/s]\n",
      "Processing frames: 100%|██████████| 79/79 [00:07<00:00, 10.28it/s]\n",
      "Processing frames: 100%|██████████| 78/78 [00:07<00:00, 10.29it/s]\n",
      "Processing frames: 100%|██████████| 69/69 [00:06<00:00, 10.63it/s]\n",
      "Processing frames: 100%|██████████| 78/78 [00:07<00:00, 10.39it/s]\n",
      "Processing frames: 100%|██████████| 46/46 [00:04<00:00, 10.51it/s]\n",
      "Processing frames: 100%|██████████| 74/74 [00:07<00:00, 10.51it/s]\n",
      "Processing frames: 100%|██████████| 39/39 [00:03<00:00, 10.38it/s]\n",
      "Processing frames: 100%|██████████| 79/79 [00:07<00:00, 10.34it/s]\n",
      "Processing frames: 100%|██████████| 83/83 [00:07<00:00, 10.39it/s]\n",
      "Processing frames: 100%|██████████| 59/59 [00:05<00:00, 10.44it/s]\n",
      "Processing frames: 100%|██████████| 69/69 [00:06<00:00, 10.11it/s]\n",
      "Processing frames: 100%|██████████| 49/49 [00:04<00:00, 10.58it/s]\n",
      "Processing frames: 100%|██████████| 74/74 [00:07<00:00, 10.46it/s]\n",
      "Processing frames: 100%|██████████| 79/79 [00:07<00:00, 10.17it/s]\n",
      "Processing frames: 100%|██████████| 79/79 [00:07<00:00, 10.38it/s]\n",
      "Processing frames: 100%|██████████| 79/79 [00:07<00:00, 10.58it/s]\n",
      "Processing frames: 100%|██████████| 89/89 [00:08<00:00, 10.48it/s]\n",
      "Processing frames: 100%|██████████| 42/42 [00:04<00:00, 10.06it/s]\n",
      "Processing frames: 100%|██████████| 48/48 [00:04<00:00, 10.46it/s]\n",
      "Processing frames: 100%|██████████| 65/65 [00:06<00:00, 10.53it/s]\n",
      "Processing frames: 100%|██████████| 51/51 [00:04<00:00, 10.27it/s]\n",
      "Processing frames: 100%|██████████| 49/49 [00:04<00:00, 10.45it/s]\n",
      "Processing frames: 100%|██████████| 90/90 [00:08<00:00, 10.35it/s]\n",
      "Processing frames: 100%|██████████| 98/98 [00:09<00:00, 10.55it/s]\n",
      "Processing frames: 100%|██████████| 51/51 [00:04<00:00, 10.47it/s]\n",
      "Processing frames: 100%|██████████| 74/74 [00:07<00:00, 10.42it/s]\n",
      "Processing frames: 100%|██████████| 59/59 [00:05<00:00, 10.50it/s]\n",
      "Processing frames: 100%|██████████| 24/24 [00:02<00:00, 10.56it/s]\n",
      "Processing frames: 100%|██████████| 79/79 [00:07<00:00, 10.47it/s]\n",
      "Processing frames: 100%|██████████| 70/70 [00:06<00:00, 10.39it/s]\n",
      "Processing frames: 100%|██████████| 75/75 [00:07<00:00, 10.34it/s]\n",
      "Processing frames: 100%|██████████| 69/69 [00:06<00:00, 10.10it/s]\n",
      "Processing frames: 100%|██████████| 59/59 [00:05<00:00, 10.56it/s]\n",
      "Processing frames: 100%|██████████| 89/89 [00:08<00:00, 10.46it/s]\n",
      "Processing frames: 100%|██████████| 89/89 [00:08<00:00, 10.26it/s]\n",
      "Processing frames: 100%|██████████| 34/34 [00:03<00:00, 10.48it/s]\n",
      "Processing frames: 100%|██████████| 67/67 [00:06<00:00, 10.36it/s]\n",
      "Processing frames: 100%|██████████| 61/61 [00:05<00:00, 10.36it/s]\n",
      "Processing frames: 100%|██████████| 39/39 [00:04<00:00,  9.63it/s]\n",
      "Processing frames: 100%|██████████| 79/79 [00:07<00:00, 10.27it/s]\n",
      "Processing frames: 100%|██████████| 88/88 [00:08<00:00, 10.42it/s]\n",
      "Processing frames: 100%|██████████| 59/59 [00:05<00:00, 10.34it/s]\n",
      "Processing frames: 100%|██████████| 69/69 [00:06<00:00, 10.39it/s]\n",
      "Processing frames: 100%|██████████| 65/65 [00:06<00:00, 10.36it/s]\n",
      "Processing frames: 100%|██████████| 90/90 [00:08<00:00, 10.36it/s]\n",
      "Processing frames: 100%|██████████| 81/81 [00:07<00:00, 10.23it/s]\n",
      "Processing frames: 100%|██████████| 89/89 [00:08<00:00, 10.49it/s]\n",
      "Processing frames: 100%|██████████| 62/62 [00:06<00:00,  9.99it/s]\n",
      "Processing frames: 100%|██████████| 39/39 [00:03<00:00, 10.12it/s]\n",
      "Processing frames: 100%|██████████| 82/82 [00:08<00:00, 10.22it/s]\n",
      "Processing frames: 100%|██████████| 79/79 [00:07<00:00, 10.28it/s]\n",
      "Processing frames: 100%|██████████| 58/58 [00:05<00:00, 10.14it/s]\n",
      "Processing frames: 100%|██████████| 67/67 [00:06<00:00, 10.35it/s]\n",
      "  0%|          | 0/90 [00:00<?, ?it/s]"
     ]
    },
    {
     "name": "stdout",
     "output_type": "stream",
     "text": [
      "Video lady-running with n=64\n"
     ]
    },
    {
     "name": "stderr",
     "output_type": "stream",
     "text": [
      "  1%|          | 1/90 [00:03<04:27,  3.01s/it]"
     ]
    },
    {
     "name": "stdout",
     "output_type": "stream",
     "text": [
      "Video tractor-sand with n=75\n"
     ]
    },
    {
     "name": "stderr",
     "output_type": "stream",
     "text": [
      "  2%|▏         | 2/90 [00:06<04:54,  3.34s/it]"
     ]
    },
    {
     "name": "stdout",
     "output_type": "stream",
     "text": [
      "Video lucia with n=69\n"
     ]
    },
    {
     "name": "stderr",
     "output_type": "stream",
     "text": [
      "  3%|▎         | 3/90 [00:09<04:52,  3.37s/it]"
     ]
    },
    {
     "name": "stdout",
     "output_type": "stream",
     "text": [
      "Video varanus-cage with n=66\n"
     ]
    },
    {
     "name": "stderr",
     "output_type": "stream",
     "text": [
      "  4%|▍         | 4/90 [00:13<04:44,  3.30s/it]"
     ]
    },
    {
     "name": "stdout",
     "output_type": "stream",
     "text": [
      "Video gold-fish with n=77\n"
     ]
    },
    {
     "name": "stderr",
     "output_type": "stream",
     "text": [
      "  6%|▌         | 5/90 [00:17<04:58,  3.52s/it]"
     ]
    },
    {
     "name": "stdout",
     "output_type": "stream",
     "text": [
      "Video bike-packing with n=68\n"
     ]
    },
    {
     "name": "stderr",
     "output_type": "stream",
     "text": [
      "  7%|▋         | 6/90 [00:20<04:59,  3.57s/it]"
     ]
    },
    {
     "name": "stdout",
     "output_type": "stream",
     "text": [
      "Video flamingo with n=79\n"
     ]
    },
    {
     "name": "stderr",
     "output_type": "stream",
     "text": [
      "  8%|▊         | 7/90 [00:24<05:06,  3.69s/it]"
     ]
    },
    {
     "name": "stdout",
     "output_type": "stream",
     "text": [
      "Video bus with n=79\n"
     ]
    },
    {
     "name": "stderr",
     "output_type": "stream",
     "text": [
      "  9%|▉         | 8/90 [00:28<05:11,  3.80s/it]"
     ]
    },
    {
     "name": "stdout",
     "output_type": "stream",
     "text": [
      "Video koala with n=99\n"
     ]
    },
    {
     "name": "stderr",
     "output_type": "stream",
     "text": [
      " 10%|█         | 9/90 [00:33<05:38,  4.18s/it]"
     ]
    },
    {
     "name": "stdout",
     "output_type": "stream",
     "text": [
      "Video dance-jump with n=59\n"
     ]
    },
    {
     "name": "stderr",
     "output_type": "stream",
     "text": [
      " 11%|█         | 10/90 [00:36<05:03,  3.80s/it]"
     ]
    },
    {
     "name": "stdout",
     "output_type": "stream",
     "text": [
      "Video surf with n=54\n"
     ]
    },
    {
     "name": "stderr",
     "output_type": "stream",
     "text": [
      " 12%|█▏        | 11/90 [00:39<04:30,  3.43s/it]"
     ]
    },
    {
     "name": "stdout",
     "output_type": "stream",
     "text": [
      "Video drift-straight with n=49\n"
     ]
    },
    {
     "name": "stderr",
     "output_type": "stream",
     "text": [
      " 13%|█▎        | 12/90 [00:41<04:03,  3.12s/it]"
     ]
    },
    {
     "name": "stdout",
     "output_type": "stream",
     "text": [
      "Video rallye with n=49\n"
     ]
    },
    {
     "name": "stderr",
     "output_type": "stream",
     "text": [
      " 14%|█▍        | 13/90 [00:44<03:43,  2.90s/it]"
     ]
    },
    {
     "name": "stdout",
     "output_type": "stream",
     "text": [
      "Video kite-surf with n=49\n"
     ]
    },
    {
     "name": "stderr",
     "output_type": "stream",
     "text": [
      " 16%|█▌        | 14/90 [00:46<03:28,  2.75s/it]"
     ]
    },
    {
     "name": "stdout",
     "output_type": "stream",
     "text": [
      "Video blackswan with n=49\n"
     ]
    },
    {
     "name": "stderr",
     "output_type": "stream",
     "text": [
      " 17%|█▋        | 15/90 [00:48<03:20,  2.67s/it]"
     ]
    },
    {
     "name": "stdout",
     "output_type": "stream",
     "text": [
      "Video walking with n=71\n"
     ]
    },
    {
     "name": "stderr",
     "output_type": "stream",
     "text": [
      " 18%|█▊        | 16/90 [00:52<03:39,  2.97s/it]"
     ]
    },
    {
     "name": "stdout",
     "output_type": "stream",
     "text": [
      "Video lindy-hop with n=72\n"
     ]
    },
    {
     "name": "stderr",
     "output_type": "stream",
     "text": [
      " 19%|█▉        | 17/90 [00:56<03:53,  3.20s/it]"
     ]
    },
    {
     "name": "stdout",
     "output_type": "stream",
     "text": [
      "Video cows with n=103\n"
     ]
    },
    {
     "name": "stderr",
     "output_type": "stream",
     "text": [
      " 20%|██        | 18/90 [01:01<04:32,  3.79s/it]"
     ]
    },
    {
     "name": "stdout",
     "output_type": "stream",
     "text": [
      "Video planes-water with n=37\n"
     ]
    },
    {
     "name": "stderr",
     "output_type": "stream",
     "text": [
      " 21%|██        | 19/90 [01:03<03:46,  3.19s/it]"
     ]
    },
    {
     "name": "stdout",
     "output_type": "stream",
     "text": [
      "Video boxing-fisheye with n=86\n"
     ]
    },
    {
     "name": "stderr",
     "output_type": "stream",
     "text": [
      " 22%|██▏       | 20/90 [01:07<04:06,  3.53s/it]"
     ]
    },
    {
     "name": "stdout",
     "output_type": "stream",
     "text": [
      "Video drift-chicane with n=51\n"
     ]
    },
    {
     "name": "stderr",
     "output_type": "stream",
     "text": [
      " 23%|██▎       | 21/90 [01:10<03:43,  3.23s/it]"
     ]
    },
    {
     "name": "stdout",
     "output_type": "stream",
     "text": [
      "Video scooter-black with n=42\n"
     ]
    },
    {
     "name": "stderr",
     "output_type": "stream",
     "text": [
      " 24%|██▍       | 22/90 [01:12<03:16,  2.90s/it]"
     ]
    },
    {
     "name": "stdout",
     "output_type": "stream",
     "text": [
      "Video hockey with n=74\n"
     ]
    },
    {
     "name": "stderr",
     "output_type": "stream",
     "text": [
      " 26%|██▌       | 23/90 [01:15<03:29,  3.13s/it]"
     ]
    },
    {
     "name": "stdout",
     "output_type": "stream",
     "text": [
      "Video drone with n=90\n"
     ]
    },
    {
     "name": "stderr",
     "output_type": "stream",
     "text": [
      " 27%|██▋       | 24/90 [01:20<03:55,  3.57s/it]"
     ]
    },
    {
     "name": "stdout",
     "output_type": "stream",
     "text": [
      "Video upside-down with n=64\n"
     ]
    },
    {
     "name": "stderr",
     "output_type": "stream",
     "text": [
      " 28%|██▊       | 25/90 [01:23<03:47,  3.50s/it]"
     ]
    },
    {
     "name": "stdout",
     "output_type": "stream",
     "text": [
      "Video india with n=80\n"
     ]
    },
    {
     "name": "stderr",
     "output_type": "stream",
     "text": [
      " 29%|██▉       | 26/90 [01:28<03:55,  3.69s/it]"
     ]
    },
    {
     "name": "stdout",
     "output_type": "stream",
     "text": [
      "Video dog-gooses with n=85\n"
     ]
    },
    {
     "name": "stderr",
     "output_type": "stream",
     "text": [
      " 30%|███       | 27/90 [01:32<04:02,  3.84s/it]"
     ]
    },
    {
     "name": "stdout",
     "output_type": "stream",
     "text": [
      "Video judo with n=33\n"
     ]
    },
    {
     "name": "stderr",
     "output_type": "stream",
     "text": [
      " 31%|███       | 28/90 [01:33<03:16,  3.17s/it]"
     ]
    },
    {
     "name": "stdout",
     "output_type": "stream",
     "text": [
      "Video stunt with n=70\n"
     ]
    },
    {
     "name": "stderr",
     "output_type": "stream",
     "text": [
      " 32%|███▏      | 29/90 [01:37<03:18,  3.25s/it]"
     ]
    },
    {
     "name": "stdout",
     "output_type": "stream",
     "text": [
      "Video drift-turn with n=63\n"
     ]
    },
    {
     "name": "stderr",
     "output_type": "stream",
     "text": [
      " 33%|███▎      | 30/90 [01:40<03:13,  3.22s/it]"
     ]
    },
    {
     "name": "stdout",
     "output_type": "stream",
     "text": [
      "Video car-turn with n=79\n"
     ]
    },
    {
     "name": "stderr",
     "output_type": "stream",
     "text": [
      " 34%|███▍      | 31/90 [01:44<03:24,  3.47s/it]"
     ]
    },
    {
     "name": "stdout",
     "output_type": "stream",
     "text": [
      "Video elephant with n=79\n"
     ]
    },
    {
     "name": "stderr",
     "output_type": "stream",
     "text": [
      " 36%|███▌      | 32/90 [01:48<03:29,  3.62s/it]"
     ]
    },
    {
     "name": "stdout",
     "output_type": "stream",
     "text": [
      "Video camel with n=89\n"
     ]
    },
    {
     "name": "stderr",
     "output_type": "stream",
     "text": [
      " 37%|███▋      | 33/90 [01:52<03:41,  3.89s/it]"
     ]
    },
    {
     "name": "stdout",
     "output_type": "stream",
     "text": [
      "Video night-race with n=45\n"
     ]
    },
    {
     "name": "stderr",
     "output_type": "stream",
     "text": [
      " 38%|███▊      | 34/90 [01:55<03:09,  3.38s/it]"
     ]
    },
    {
     "name": "stdout",
     "output_type": "stream",
     "text": [
      "Video soccerball with n=47\n"
     ]
    },
    {
     "name": "stderr",
     "output_type": "stream",
     "text": [
      " 39%|███▉      | 35/90 [01:57<02:50,  3.10s/it]"
     ]
    },
    {
     "name": "stdout",
     "output_type": "stream",
     "text": [
      "Video parkour with n=99\n"
     ]
    },
    {
     "name": "stderr",
     "output_type": "stream",
     "text": [
      " 40%|████      | 36/90 [02:02<03:19,  3.69s/it]"
     ]
    },
    {
     "name": "stdout",
     "output_type": "stream",
     "text": [
      "Video breakdance with n=83\n"
     ]
    },
    {
     "name": "stderr",
     "output_type": "stream",
     "text": [
      " 41%|████      | 37/90 [02:06<03:22,  3.82s/it]"
     ]
    },
    {
     "name": "stdout",
     "output_type": "stream",
     "text": [
      "Video schoolgirls with n=79\n"
     ]
    },
    {
     "name": "stderr",
     "output_type": "stream",
     "text": [
      " 42%|████▏     | 38/90 [02:10<03:22,  3.90s/it]"
     ]
    },
    {
     "name": "stdout",
     "output_type": "stream",
     "text": [
      "Video mbike-trick with n=78\n"
     ]
    },
    {
     "name": "stderr",
     "output_type": "stream",
     "text": [
      " 43%|████▎     | 39/90 [02:14<03:18,  3.90s/it]"
     ]
    },
    {
     "name": "stdout",
     "output_type": "stream",
     "text": [
      "Video mallard-fly with n=69\n"
     ]
    },
    {
     "name": "stderr",
     "output_type": "stream",
     "text": [
      " 44%|████▍     | 40/90 [02:18<03:07,  3.75s/it]"
     ]
    },
    {
     "name": "stdout",
     "output_type": "stream",
     "text": [
      "Video pigs with n=78\n"
     ]
    },
    {
     "name": "stderr",
     "output_type": "stream",
     "text": [
      " 46%|████▌     | 41/90 [02:22<03:06,  3.80s/it]"
     ]
    },
    {
     "name": "stdout",
     "output_type": "stream",
     "text": [
      "Video lab-coat with n=46\n"
     ]
    },
    {
     "name": "stderr",
     "output_type": "stream",
     "text": [
      " 47%|████▋     | 42/90 [02:24<02:41,  3.36s/it]"
     ]
    },
    {
     "name": "stdout",
     "output_type": "stream",
     "text": [
      "Video car-roundabout with n=74\n"
     ]
    },
    {
     "name": "stderr",
     "output_type": "stream",
     "text": [
      " 48%|████▊     | 43/90 [02:28<02:42,  3.47s/it]"
     ]
    },
    {
     "name": "stdout",
     "output_type": "stream",
     "text": [
      "Video shooting with n=39\n"
     ]
    },
    {
     "name": "stderr",
     "output_type": "stream",
     "text": [
      " 49%|████▉     | 44/90 [02:30<02:26,  3.19s/it]"
     ]
    },
    {
     "name": "stdout",
     "output_type": "stream",
     "text": [
      "Video bmx-trees with n=79\n"
     ]
    },
    {
     "name": "stderr",
     "output_type": "stream",
     "text": [
      " 50%|█████     | 45/90 [02:34<02:34,  3.44s/it]"
     ]
    },
    {
     "name": "stdout",
     "output_type": "stream",
     "text": [
      "Video color-run with n=83\n"
     ]
    },
    {
     "name": "stderr",
     "output_type": "stream",
     "text": [
      " 51%|█████     | 46/90 [02:38<02:41,  3.67s/it]"
     ]
    },
    {
     "name": "stdout",
     "output_type": "stream",
     "text": [
      "Video swing with n=59\n"
     ]
    },
    {
     "name": "stderr",
     "output_type": "stream",
     "text": [
      " 52%|█████▏    | 47/90 [02:41<02:29,  3.47s/it]"
     ]
    },
    {
     "name": "stdout",
     "output_type": "stream",
     "text": [
      "Video paragliding with n=69\n"
     ]
    },
    {
     "name": "stderr",
     "output_type": "stream",
     "text": [
      " 53%|█████▎    | 48/90 [02:45<02:24,  3.45s/it]"
     ]
    },
    {
     "name": "stdout",
     "output_type": "stream",
     "text": [
      "Video horsejump-high with n=49\n"
     ]
    },
    {
     "name": "stderr",
     "output_type": "stream",
     "text": [
      " 54%|█████▍    | 49/90 [02:47<02:09,  3.16s/it]"
     ]
    },
    {
     "name": "stdout",
     "output_type": "stream",
     "text": [
      "Video scooter-gray with n=74\n"
     ]
    },
    {
     "name": "stderr",
     "output_type": "stream",
     "text": [
      " 56%|█████▌    | 50/90 [02:51<02:12,  3.32s/it]"
     ]
    },
    {
     "name": "stdout",
     "output_type": "stream",
     "text": [
      "Video hike with n=79\n"
     ]
    },
    {
     "name": "stderr",
     "output_type": "stream",
     "text": [
      " 57%|█████▋    | 51/90 [02:55<02:17,  3.52s/it]"
     ]
    },
    {
     "name": "stdout",
     "output_type": "stream",
     "text": [
      "Video kite-walk with n=79\n"
     ]
    },
    {
     "name": "stderr",
     "output_type": "stream",
     "text": [
      " 58%|█████▊    | 52/90 [02:59<02:19,  3.67s/it]"
     ]
    },
    {
     "name": "stdout",
     "output_type": "stream",
     "text": [
      "Video mallard-water with n=79\n"
     ]
    },
    {
     "name": "stderr",
     "output_type": "stream",
     "text": [
      " 59%|█████▉    | 53/90 [03:03<02:19,  3.76s/it]"
     ]
    },
    {
     "name": "stdout",
     "output_type": "stream",
     "text": [
      "Video goat with n=89\n"
     ]
    },
    {
     "name": "stderr",
     "output_type": "stream",
     "text": [
      " 60%|██████    | 54/90 [03:07<02:23,  3.98s/it]"
     ]
    },
    {
     "name": "stdout",
     "output_type": "stream",
     "text": [
      "Video motorbike with n=42\n"
     ]
    },
    {
     "name": "stderr",
     "output_type": "stream",
     "text": [
      " 61%|██████    | 55/90 [03:10<01:59,  3.42s/it]"
     ]
    },
    {
     "name": "stdout",
     "output_type": "stream",
     "text": [
      "Video libby with n=48\n"
     ]
    },
    {
     "name": "stderr",
     "output_type": "stream",
     "text": [
      " 62%|██████▏   | 56/90 [03:12<01:45,  3.11s/it]"
     ]
    },
    {
     "name": "stdout",
     "output_type": "stream",
     "text": [
      "Video dogs-jump with n=65\n"
     ]
    },
    {
     "name": "stderr",
     "output_type": "stream",
     "text": [
      " 63%|██████▎   | 57/90 [03:15<01:44,  3.17s/it]"
     ]
    },
    {
     "name": "stdout",
     "output_type": "stream",
     "text": [
      "Video crossing with n=51\n"
     ]
    },
    {
     "name": "stderr",
     "output_type": "stream",
     "text": [
      " 64%|██████▍   | 58/90 [03:18<01:35,  3.00s/it]"
     ]
    },
    {
     "name": "stdout",
     "output_type": "stream",
     "text": [
      "Video loading with n=49\n"
     ]
    },
    {
     "name": "stderr",
     "output_type": "stream",
     "text": [
      " 66%|██████▌   | 59/90 [03:20<01:27,  2.83s/it]"
     ]
    },
    {
     "name": "stdout",
     "output_type": "stream",
     "text": [
      "Video scooter-board with n=90\n"
     ]
    },
    {
     "name": "stderr",
     "output_type": "stream",
     "text": [
      " 67%|██████▋   | 60/90 [03:25<01:39,  3.33s/it]"
     ]
    },
    {
     "name": "stdout",
     "output_type": "stream",
     "text": [
      "Video soapbox with n=98\n"
     ]
    },
    {
     "name": "stderr",
     "output_type": "stream",
     "text": [
      " 68%|██████▊   | 61/90 [03:30<01:51,  3.85s/it]"
     ]
    },
    {
     "name": "stdout",
     "output_type": "stream",
     "text": [
      "Video longboard with n=51\n"
     ]
    },
    {
     "name": "stderr",
     "output_type": "stream",
     "text": [
      " 69%|██████▉   | 62/90 [03:32<01:37,  3.48s/it]"
     ]
    },
    {
     "name": "stdout",
     "output_type": "stream",
     "text": [
      "Video boat with n=74\n"
     ]
    },
    {
     "name": "stderr",
     "output_type": "stream",
     "text": [
      " 70%|███████   | 63/90 [03:36<01:35,  3.54s/it]"
     ]
    },
    {
     "name": "stdout",
     "output_type": "stream",
     "text": [
      "Video dog with n=59\n"
     ]
    },
    {
     "name": "stderr",
     "output_type": "stream",
     "text": [
      " 71%|███████   | 64/90 [03:39<01:27,  3.38s/it]"
     ]
    },
    {
     "name": "stdout",
     "output_type": "stream",
     "text": [
      "Video dog-agility with n=24\n"
     ]
    },
    {
     "name": "stderr",
     "output_type": "stream",
     "text": [
      " 72%|███████▏  | 65/90 [03:40<01:07,  2.72s/it]"
     ]
    },
    {
     "name": "stdout",
     "output_type": "stream",
     "text": [
      "Video skate-park with n=79\n"
     ]
    },
    {
     "name": "stderr",
     "output_type": "stream",
     "text": [
      " 73%|███████▎  | 66/90 [03:44<01:14,  3.09s/it]"
     ]
    },
    {
     "name": "stdout",
     "output_type": "stream",
     "text": [
      "Video breakdance-flare with n=70\n"
     ]
    },
    {
     "name": "stderr",
     "output_type": "stream",
     "text": [
      " 74%|███████▍  | 67/90 [03:48<01:14,  3.24s/it]"
     ]
    },
    {
     "name": "stdout",
     "output_type": "stream",
     "text": [
      "Video disc-jockey with n=75\n"
     ]
    },
    {
     "name": "stderr",
     "output_type": "stream",
     "text": [
      " 76%|███████▌  | 68/90 [03:53<01:22,  3.75s/it]"
     ]
    },
    {
     "name": "stdout",
     "output_type": "stream",
     "text": [
      "Video tennis with n=69\n"
     ]
    },
    {
     "name": "stderr",
     "output_type": "stream",
     "text": [
      " 77%|███████▋  | 69/90 [03:56<01:16,  3.66s/it]"
     ]
    },
    {
     "name": "stdout",
     "output_type": "stream",
     "text": [
      "Video motocross-bumps with n=59\n"
     ]
    },
    {
     "name": "stderr",
     "output_type": "stream",
     "text": [
      " 78%|███████▊  | 70/90 [03:59<01:09,  3.45s/it]"
     ]
    },
    {
     "name": "stdout",
     "output_type": "stream",
     "text": [
      "Video dance-twirl with n=89\n"
     ]
    },
    {
     "name": "stderr",
     "output_type": "stream",
     "text": [
      " 79%|███████▉  | 71/90 [04:04<01:11,  3.77s/it]"
     ]
    },
    {
     "name": "stdout",
     "output_type": "stream",
     "text": [
      "Video rhino with n=89\n"
     ]
    },
    {
     "name": "stderr",
     "output_type": "stream",
     "text": [
      " 80%|████████  | 72/90 [04:08<01:12,  4.00s/it]"
     ]
    },
    {
     "name": "stdout",
     "output_type": "stream",
     "text": [
      "Video rollerblade with n=34\n"
     ]
    },
    {
     "name": "stderr",
     "output_type": "stream",
     "text": [
      " 81%|████████  | 73/90 [04:10<00:56,  3.30s/it]"
     ]
    },
    {
     "name": "stdout",
     "output_type": "stream",
     "text": [
      "Video kid-football with n=67\n"
     ]
    },
    {
     "name": "stderr",
     "output_type": "stream",
     "text": [
      " 82%|████████▏ | 74/90 [04:13<00:53,  3.33s/it]"
     ]
    },
    {
     "name": "stdout",
     "output_type": "stream",
     "text": [
      "Video dancing with n=61\n"
     ]
    },
    {
     "name": "stderr",
     "output_type": "stream",
     "text": [
      " 83%|████████▎ | 75/90 [04:16<00:48,  3.26s/it]"
     ]
    },
    {
     "name": "stdout",
     "output_type": "stream",
     "text": [
      "Video car-shadow with n=39\n"
     ]
    },
    {
     "name": "stderr",
     "output_type": "stream",
     "text": [
      " 84%|████████▍ | 76/90 [04:18<00:40,  2.87s/it]"
     ]
    },
    {
     "name": "stdout",
     "output_type": "stream",
     "text": [
      "Video paragliding-launch with n=79\n"
     ]
    },
    {
     "name": "stderr",
     "output_type": "stream",
     "text": [
      " 86%|████████▌ | 77/90 [04:23<00:41,  3.23s/it]"
     ]
    },
    {
     "name": "stdout",
     "output_type": "stream",
     "text": [
      "Video cat-girl with n=88\n"
     ]
    },
    {
     "name": "stderr",
     "output_type": "stream",
     "text": [
      " 87%|████████▋ | 78/90 [04:27<00:44,  3.71s/it]"
     ]
    },
    {
     "name": "stdout",
     "output_type": "stream",
     "text": [
      "Video horsejump-low with n=59\n"
     ]
    },
    {
     "name": "stderr",
     "output_type": "stream",
     "text": [
      " 88%|████████▊ | 79/90 [04:30<00:38,  3.49s/it]"
     ]
    },
    {
     "name": "stdout",
     "output_type": "stream",
     "text": [
      "Video miami-surf with n=69\n"
     ]
    },
    {
     "name": "stderr",
     "output_type": "stream",
     "text": [
      " 89%|████████▉ | 80/90 [04:34<00:34,  3.49s/it]"
     ]
    },
    {
     "name": "stdout",
     "output_type": "stream",
     "text": [
      "Video snowboard with n=65\n"
     ]
    },
    {
     "name": "stderr",
     "output_type": "stream",
     "text": [
      " 90%|█████████ | 81/90 [04:37<00:30,  3.44s/it]"
     ]
    },
    {
     "name": "stdout",
     "output_type": "stream",
     "text": [
      "Video stroller with n=90\n"
     ]
    },
    {
     "name": "stderr",
     "output_type": "stream",
     "text": [
      " 91%|█████████ | 82/90 [04:42<00:30,  3.81s/it]"
     ]
    },
    {
     "name": "stdout",
     "output_type": "stream",
     "text": [
      "Video bear with n=81\n"
     ]
    },
    {
     "name": "stderr",
     "output_type": "stream",
     "text": [
      " 92%|█████████▏| 83/90 [04:46<00:27,  3.92s/it]"
     ]
    },
    {
     "name": "stdout",
     "output_type": "stream",
     "text": [
      "Video bmx-bumps with n=89\n"
     ]
    },
    {
     "name": "stderr",
     "output_type": "stream",
     "text": [
      " 93%|█████████▎| 84/90 [04:50<00:24,  4.08s/it]"
     ]
    },
    {
     "name": "stdout",
     "output_type": "stream",
     "text": [
      "Video classic-car with n=62\n"
     ]
    },
    {
     "name": "stderr",
     "output_type": "stream",
     "text": [
      " 94%|█████████▍| 85/90 [04:54<00:19,  3.80s/it]"
     ]
    },
    {
     "name": "stdout",
     "output_type": "stream",
     "text": [
      "Video motocross-jump with n=39\n"
     ]
    },
    {
     "name": "stderr",
     "output_type": "stream",
     "text": [
      " 96%|█████████▌| 86/90 [04:56<00:13,  3.25s/it]"
     ]
    },
    {
     "name": "stdout",
     "output_type": "stream",
     "text": [
      "Video dogs-scale with n=82\n"
     ]
    },
    {
     "name": "stderr",
     "output_type": "stream",
     "text": [
      " 97%|█████████▋| 87/90 [05:00<00:10,  3.56s/it]"
     ]
    },
    {
     "name": "stdout",
     "output_type": "stream",
     "text": [
      "Video train with n=79\n"
     ]
    },
    {
     "name": "stderr",
     "output_type": "stream",
     "text": [
      " 98%|█████████▊| 88/90 [05:04<00:07,  3.70s/it]"
     ]
    },
    {
     "name": "stdout",
     "output_type": "stream",
     "text": [
      "Video tuk-tuk with n=58\n"
     ]
    },
    {
     "name": "stderr",
     "output_type": "stream",
     "text": [
      " 99%|█████████▉| 89/90 [05:07<00:03,  3.50s/it]"
     ]
    },
    {
     "name": "stdout",
     "output_type": "stream",
     "text": [
      "Video sheep with n=67\n"
     ]
    },
    {
     "name": "stderr",
     "output_type": "stream",
     "text": [
      "100%|██████████| 90/90 [05:10<00:00,  3.45s/it]"
     ]
    },
    {
     "name": "stdout",
     "output_type": "stream",
     "text": [
      "J = 0.24519316521641374, F = 0.34208437926391067, J&F = 0.2936387722401622\n"
     ]
    },
    {
     "name": "stderr",
     "output_type": "stream",
     "text": [
      "\n"
     ]
    },
    {
     "data": {
      "text/plain": [
       "array([0.24519317, 0.34208438])"
      ]
     },
     "execution_count": 2,
     "metadata": {},
     "output_type": "execute_result"
    }
   ],
   "source": [
    "model_path = \"./JOINT_ENC_DEC_5.pt\"\n",
    "model = sim_mae_vit_tiny_patch8_dec512d8b(use_joint_enc=True, use_joint_dec=True)\n",
    "model = model.to(device)\n",
    "state_dict = torch.load(model_path)\n",
    "state_dict = {k.replace(\"module.\", \"\"): v for k, v in state_dict.items()}\n",
    "model.load_state_dict(state_dict)\n",
    "\n",
    "test_name = \"JOINT_ENC_DEC_5\"\n",
    "\n",
    "for video_name in video_names:\n",
    "    eval_video(model, test_name, video_name, videos_path, labels_path, queue_length=20, topk=7, size_neighbourhood=7, output_dir=\"./outputs/\")\n",
    "eval_model(video_names, videos_path, labels_path, \"./outputs/\", test_name)"
   ]
  },
  {
   "cell_type": "code",
   "execution_count": 2,
   "metadata": {},
   "outputs": [
    {
     "name": "stderr",
     "output_type": "stream",
     "text": [
      "/tmp/ipykernel_265822/1487764144.py:4: FutureWarning: You are using `torch.load` with `weights_only=False` (the current default value), which uses the default pickle module implicitly. It is possible to construct malicious pickle data which will execute arbitrary code during unpickling (See https://github.com/pytorch/pytorch/blob/main/SECURITY.md#untrusted-models for more details). In a future release, the default value for `weights_only` will be flipped to `True`. This limits the functions that could be executed during unpickling. Arbitrary objects will no longer be allowed to be loaded via this mode unless they are explicitly allowlisted by the user via `torch.serialization.add_safe_globals`. We recommend you start setting `weights_only=True` for any use case where you don't have full control of the loaded file. Please open an issue on GitHub for any issues related to this experimental feature.\n",
      "  state_dict = torch.load(model_path)\n",
      "Processing frames:   0%|          | 0/64 [00:00<?, ?it/s]/home/omidfm/DD2412_Project/eval.py:160: UserWarning: torch.sparse.SparseTensor(indices, values, shape, *, device=) is deprecated.  Please use torch.sparse_coo_tensor(indices, values, shape, dtype=, device=). (Triggered internally at ../torch/csrc/utils/tensor_new.cpp:651.)\n",
      "  mask = torch.sparse.FloatTensor(\n",
      "Processing frames: 100%|██████████| 64/64 [00:06<00:00,  9.56it/s]\n",
      "Processing frames: 100%|██████████| 75/75 [00:07<00:00,  9.84it/s]\n",
      "Processing frames: 100%|██████████| 69/69 [00:07<00:00,  9.78it/s]\n",
      "Processing frames: 100%|██████████| 66/66 [00:06<00:00,  9.79it/s]\n",
      "Processing frames: 100%|██████████| 77/77 [00:07<00:00,  9.86it/s]\n",
      "Processing frames: 100%|██████████| 68/68 [00:06<00:00,  9.72it/s]\n",
      "Processing frames: 100%|██████████| 79/79 [00:08<00:00,  9.76it/s]\n",
      "Processing frames: 100%|██████████| 79/79 [00:08<00:00,  9.62it/s]\n",
      "Processing frames: 100%|██████████| 99/99 [00:10<00:00,  9.85it/s]\n",
      "Processing frames: 100%|██████████| 59/59 [00:06<00:00,  9.76it/s]\n",
      "Processing frames: 100%|██████████| 54/54 [00:05<00:00,  9.95it/s]\n",
      "Processing frames: 100%|██████████| 49/49 [00:04<00:00,  9.91it/s]\n",
      "Processing frames: 100%|██████████| 49/49 [00:05<00:00,  9.69it/s]\n",
      "Processing frames: 100%|██████████| 49/49 [00:04<00:00, 10.11it/s]\n",
      "Processing frames: 100%|██████████| 49/49 [00:04<00:00,  9.99it/s]\n",
      "Processing frames: 100%|██████████| 71/71 [00:07<00:00,  9.62it/s]\n",
      "Processing frames: 100%|██████████| 72/72 [00:07<00:00,  9.63it/s]\n",
      "Processing frames: 100%|██████████| 103/103 [00:10<00:00,  9.84it/s]\n",
      "Processing frames: 100%|██████████| 37/37 [00:03<00:00, 10.09it/s]\n",
      "Processing frames: 100%|██████████| 86/86 [00:08<00:00,  9.72it/s]\n",
      "Processing frames: 100%|██████████| 51/51 [00:05<00:00, 10.01it/s]\n",
      "Processing frames: 100%|██████████| 42/42 [00:04<00:00,  9.87it/s]\n",
      "Processing frames: 100%|██████████| 74/74 [00:07<00:00,  9.87it/s]\n",
      "Processing frames: 100%|██████████| 90/90 [00:09<00:00,  9.61it/s]\n",
      "Processing frames: 100%|██████████| 64/64 [00:06<00:00,  9.78it/s]\n",
      "Processing frames: 100%|██████████| 80/80 [00:08<00:00,  9.95it/s]\n",
      "Processing frames: 100%|██████████| 85/85 [00:08<00:00,  9.59it/s]\n",
      "Processing frames: 100%|██████████| 33/33 [00:03<00:00, 10.02it/s]\n",
      "Processing frames: 100%|██████████| 70/70 [00:07<00:00,  9.78it/s]\n",
      "Processing frames: 100%|██████████| 63/63 [00:06<00:00,  9.85it/s]\n",
      "Processing frames: 100%|██████████| 79/79 [00:07<00:00,  9.91it/s]\n",
      "Processing frames: 100%|██████████| 79/79 [00:08<00:00,  9.83it/s]\n",
      "Processing frames: 100%|██████████| 89/89 [00:09<00:00,  9.62it/s]\n",
      "Processing frames: 100%|██████████| 45/45 [00:04<00:00, 10.20it/s]\n",
      "Processing frames: 100%|██████████| 47/47 [00:04<00:00,  9.93it/s]\n",
      "Processing frames: 100%|██████████| 99/99 [00:10<00:00,  9.73it/s]\n",
      "Processing frames: 100%|██████████| 83/83 [00:08<00:00,  9.83it/s]\n",
      "Processing frames: 100%|██████████| 79/79 [00:08<00:00,  9.58it/s]\n",
      "Processing frames: 100%|██████████| 78/78 [00:07<00:00,  9.77it/s]\n",
      "Processing frames: 100%|██████████| 69/69 [00:06<00:00, 10.01it/s]\n",
      "Processing frames: 100%|██████████| 78/78 [00:08<00:00,  9.66it/s]\n",
      "Processing frames: 100%|██████████| 46/46 [00:04<00:00,  9.91it/s]\n",
      "Processing frames: 100%|██████████| 74/74 [00:07<00:00,  9.94it/s]\n",
      "Processing frames: 100%|██████████| 39/39 [00:03<00:00,  9.95it/s]\n",
      "Processing frames: 100%|██████████| 79/79 [00:07<00:00,  9.99it/s]\n",
      "Processing frames: 100%|██████████| 83/83 [00:08<00:00,  9.61it/s]\n",
      "Processing frames: 100%|██████████| 59/59 [00:06<00:00,  9.75it/s]\n",
      "Processing frames: 100%|██████████| 69/69 [00:07<00:00,  9.72it/s]\n",
      "Processing frames: 100%|██████████| 49/49 [00:05<00:00,  9.78it/s]\n",
      "Processing frames: 100%|██████████| 74/74 [00:07<00:00,  9.93it/s]\n",
      "Processing frames: 100%|██████████| 79/79 [00:07<00:00,  9.92it/s]\n",
      "Processing frames: 100%|██████████| 79/79 [00:08<00:00,  9.78it/s]\n",
      "Processing frames: 100%|██████████| 79/79 [00:07<00:00,  9.89it/s]\n",
      "Processing frames: 100%|██████████| 89/89 [00:09<00:00,  9.82it/s]\n",
      "Processing frames: 100%|██████████| 42/42 [00:04<00:00,  9.91it/s]\n",
      "Processing frames: 100%|██████████| 48/48 [00:04<00:00,  9.84it/s]\n",
      "Processing frames: 100%|██████████| 65/65 [00:06<00:00,  9.82it/s]\n",
      "Processing frames: 100%|██████████| 51/51 [00:05<00:00,  9.87it/s]\n",
      "Processing frames: 100%|██████████| 49/49 [00:04<00:00,  9.83it/s]\n",
      "Processing frames: 100%|██████████| 90/90 [00:09<00:00,  9.89it/s]\n",
      "Processing frames: 100%|██████████| 98/98 [00:09<00:00,  9.84it/s]\n",
      "Processing frames: 100%|██████████| 51/51 [00:05<00:00,  9.88it/s]\n",
      "Processing frames: 100%|██████████| 74/74 [00:07<00:00,  9.87it/s]\n",
      "Processing frames: 100%|██████████| 59/59 [00:05<00:00, 10.07it/s]\n",
      "Processing frames: 100%|██████████| 24/24 [00:02<00:00, 10.14it/s]\n",
      "Processing frames: 100%|██████████| 79/79 [00:08<00:00,  9.65it/s]\n",
      "Processing frames: 100%|██████████| 70/70 [00:07<00:00,  9.80it/s]\n",
      "Processing frames: 100%|██████████| 75/75 [00:07<00:00,  9.64it/s]\n",
      "Processing frames: 100%|██████████| 69/69 [00:07<00:00,  9.81it/s]\n",
      "Processing frames: 100%|██████████| 59/59 [00:05<00:00,  9.98it/s]\n",
      "Processing frames: 100%|██████████| 89/89 [00:08<00:00,  9.90it/s]\n",
      "Processing frames: 100%|██████████| 89/89 [00:09<00:00,  9.81it/s]\n",
      "Processing frames: 100%|██████████| 34/34 [00:03<00:00, 10.13it/s]\n",
      "Processing frames: 100%|██████████| 67/67 [00:06<00:00,  9.71it/s]\n",
      "Processing frames: 100%|██████████| 61/61 [00:06<00:00,  9.80it/s]\n",
      "Processing frames: 100%|██████████| 39/39 [00:04<00:00,  9.54it/s]\n",
      "Processing frames: 100%|██████████| 79/79 [00:07<00:00,  9.89it/s]\n",
      "Processing frames: 100%|██████████| 88/88 [00:09<00:00,  9.67it/s]\n",
      "Processing frames: 100%|██████████| 59/59 [00:05<00:00,  9.87it/s]\n",
      "Processing frames: 100%|██████████| 69/69 [00:06<00:00,  9.95it/s]\n",
      "Processing frames: 100%|██████████| 65/65 [00:06<00:00,  9.68it/s]\n",
      "Processing frames: 100%|██████████| 90/90 [00:09<00:00,  9.91it/s]\n",
      "Processing frames: 100%|██████████| 81/81 [00:08<00:00,  9.87it/s]\n",
      "Processing frames: 100%|██████████| 89/89 [00:09<00:00,  9.83it/s]\n",
      "Processing frames: 100%|██████████| 62/62 [00:06<00:00,  9.78it/s]\n",
      "Processing frames: 100%|██████████| 39/39 [00:03<00:00, 10.09it/s]\n",
      "Processing frames: 100%|██████████| 82/82 [00:08<00:00,  9.64it/s]\n",
      "Processing frames: 100%|██████████| 79/79 [00:08<00:00,  9.54it/s]\n",
      "Processing frames: 100%|██████████| 58/58 [00:05<00:00,  9.96it/s]\n",
      "Processing frames: 100%|██████████| 67/67 [00:06<00:00,  9.73it/s]\n",
      "  0%|          | 0/90 [00:00<?, ?it/s]"
     ]
    },
    {
     "name": "stdout",
     "output_type": "stream",
     "text": [
      "Video lady-running with n=64\n"
     ]
    },
    {
     "name": "stderr",
     "output_type": "stream",
     "text": [
      "  1%|          | 1/90 [00:03<04:57,  3.34s/it]"
     ]
    },
    {
     "name": "stdout",
     "output_type": "stream",
     "text": [
      "Video tractor-sand with n=75\n"
     ]
    },
    {
     "name": "stderr",
     "output_type": "stream",
     "text": [
      "  2%|▏         | 2/90 [00:07<05:24,  3.68s/it]"
     ]
    },
    {
     "name": "stdout",
     "output_type": "stream",
     "text": [
      "Video lucia with n=69\n"
     ]
    },
    {
     "name": "stderr",
     "output_type": "stream",
     "text": [
      "  3%|▎         | 3/90 [00:10<05:16,  3.64s/it]"
     ]
    },
    {
     "name": "stdout",
     "output_type": "stream",
     "text": [
      "Video varanus-cage with n=66\n"
     ]
    },
    {
     "name": "stderr",
     "output_type": "stream",
     "text": [
      "  4%|▍         | 4/90 [00:14<05:05,  3.55s/it]"
     ]
    },
    {
     "name": "stdout",
     "output_type": "stream",
     "text": [
      "Video gold-fish with n=77\n"
     ]
    },
    {
     "name": "stderr",
     "output_type": "stream",
     "text": [
      "  6%|▌         | 5/90 [00:18<05:18,  3.75s/it]"
     ]
    },
    {
     "name": "stdout",
     "output_type": "stream",
     "text": [
      "Video bike-packing with n=68\n"
     ]
    },
    {
     "name": "stderr",
     "output_type": "stream",
     "text": [
      "  7%|▋         | 6/90 [00:22<05:17,  3.78s/it]"
     ]
    },
    {
     "name": "stdout",
     "output_type": "stream",
     "text": [
      "Video flamingo with n=79\n"
     ]
    },
    {
     "name": "stderr",
     "output_type": "stream",
     "text": [
      "  8%|▊         | 7/90 [00:26<05:22,  3.89s/it]"
     ]
    },
    {
     "name": "stdout",
     "output_type": "stream",
     "text": [
      "Video bus with n=79\n"
     ]
    },
    {
     "name": "stderr",
     "output_type": "stream",
     "text": [
      "  9%|▉         | 8/90 [00:30<05:24,  3.96s/it]"
     ]
    },
    {
     "name": "stdout",
     "output_type": "stream",
     "text": [
      "Video koala with n=99\n"
     ]
    },
    {
     "name": "stderr",
     "output_type": "stream",
     "text": [
      " 10%|█         | 9/90 [00:35<05:49,  4.32s/it]"
     ]
    },
    {
     "name": "stdout",
     "output_type": "stream",
     "text": [
      "Video dance-jump with n=59\n"
     ]
    },
    {
     "name": "stderr",
     "output_type": "stream",
     "text": [
      " 11%|█         | 10/90 [00:38<05:14,  3.93s/it]"
     ]
    },
    {
     "name": "stdout",
     "output_type": "stream",
     "text": [
      "Video surf with n=54\n"
     ]
    },
    {
     "name": "stderr",
     "output_type": "stream",
     "text": [
      " 12%|█▏        | 11/90 [00:41<04:43,  3.58s/it]"
     ]
    },
    {
     "name": "stdout",
     "output_type": "stream",
     "text": [
      "Video drift-straight with n=49\n"
     ]
    },
    {
     "name": "stderr",
     "output_type": "stream",
     "text": [
      " 13%|█▎        | 12/90 [00:43<04:14,  3.26s/it]"
     ]
    },
    {
     "name": "stdout",
     "output_type": "stream",
     "text": [
      "Video rallye with n=49\n"
     ]
    },
    {
     "name": "stderr",
     "output_type": "stream",
     "text": [
      " 14%|█▍        | 13/90 [00:46<03:53,  3.04s/it]"
     ]
    },
    {
     "name": "stdout",
     "output_type": "stream",
     "text": [
      "Video kite-surf with n=49\n"
     ]
    },
    {
     "name": "stderr",
     "output_type": "stream",
     "text": [
      " 16%|█▌        | 14/90 [00:48<03:39,  2.89s/it]"
     ]
    },
    {
     "name": "stdout",
     "output_type": "stream",
     "text": [
      "Video blackswan with n=49\n"
     ]
    },
    {
     "name": "stderr",
     "output_type": "stream",
     "text": [
      " 17%|█▋        | 15/90 [00:51<03:28,  2.78s/it]"
     ]
    },
    {
     "name": "stdout",
     "output_type": "stream",
     "text": [
      "Video walking with n=71\n"
     ]
    },
    {
     "name": "stderr",
     "output_type": "stream",
     "text": [
      " 18%|█▊        | 16/90 [00:55<03:47,  3.08s/it]"
     ]
    },
    {
     "name": "stdout",
     "output_type": "stream",
     "text": [
      "Video lindy-hop with n=72\n"
     ]
    },
    {
     "name": "stderr",
     "output_type": "stream",
     "text": [
      " 19%|█▉        | 17/90 [00:59<04:02,  3.32s/it]"
     ]
    },
    {
     "name": "stdout",
     "output_type": "stream",
     "text": [
      "Video cows with n=103\n"
     ]
    },
    {
     "name": "stderr",
     "output_type": "stream",
     "text": [
      " 20%|██        | 18/90 [01:04<04:43,  3.94s/it]"
     ]
    },
    {
     "name": "stdout",
     "output_type": "stream",
     "text": [
      "Video planes-water with n=37\n"
     ]
    },
    {
     "name": "stderr",
     "output_type": "stream",
     "text": [
      " 21%|██        | 19/90 [01:06<03:56,  3.33s/it]"
     ]
    },
    {
     "name": "stdout",
     "output_type": "stream",
     "text": [
      "Video boxing-fisheye with n=86\n"
     ]
    },
    {
     "name": "stderr",
     "output_type": "stream",
     "text": [
      " 22%|██▏       | 20/90 [01:11<04:18,  3.69s/it]"
     ]
    },
    {
     "name": "stdout",
     "output_type": "stream",
     "text": [
      "Video drift-chicane with n=51\n"
     ]
    },
    {
     "name": "stderr",
     "output_type": "stream",
     "text": [
      " 23%|██▎       | 21/90 [01:13<03:52,  3.38s/it]"
     ]
    },
    {
     "name": "stdout",
     "output_type": "stream",
     "text": [
      "Video scooter-black with n=42\n"
     ]
    },
    {
     "name": "stderr",
     "output_type": "stream",
     "text": [
      " 24%|██▍       | 22/90 [01:15<03:24,  3.01s/it]"
     ]
    },
    {
     "name": "stdout",
     "output_type": "stream",
     "text": [
      "Video hockey with n=74\n"
     ]
    },
    {
     "name": "stderr",
     "output_type": "stream",
     "text": [
      " 26%|██▌       | 23/90 [01:19<03:38,  3.26s/it]"
     ]
    },
    {
     "name": "stdout",
     "output_type": "stream",
     "text": [
      "Video drone with n=90\n"
     ]
    },
    {
     "name": "stderr",
     "output_type": "stream",
     "text": [
      " 27%|██▋       | 24/90 [01:24<04:04,  3.70s/it]"
     ]
    },
    {
     "name": "stdout",
     "output_type": "stream",
     "text": [
      "Video upside-down with n=64\n"
     ]
    },
    {
     "name": "stderr",
     "output_type": "stream",
     "text": [
      " 28%|██▊       | 25/90 [01:27<03:54,  3.61s/it]"
     ]
    },
    {
     "name": "stdout",
     "output_type": "stream",
     "text": [
      "Video india with n=80\n"
     ]
    },
    {
     "name": "stderr",
     "output_type": "stream",
     "text": [
      " 29%|██▉       | 26/90 [01:31<04:02,  3.79s/it]"
     ]
    },
    {
     "name": "stdout",
     "output_type": "stream",
     "text": [
      "Video dog-gooses with n=85\n"
     ]
    },
    {
     "name": "stderr",
     "output_type": "stream",
     "text": [
      " 30%|███       | 27/90 [01:36<04:11,  3.99s/it]"
     ]
    },
    {
     "name": "stdout",
     "output_type": "stream",
     "text": [
      "Video judo with n=33\n"
     ]
    },
    {
     "name": "stderr",
     "output_type": "stream",
     "text": [
      " 31%|███       | 28/90 [01:38<03:24,  3.30s/it]"
     ]
    },
    {
     "name": "stdout",
     "output_type": "stream",
     "text": [
      "Video stunt with n=70\n"
     ]
    },
    {
     "name": "stderr",
     "output_type": "stream",
     "text": [
      " 32%|███▏      | 29/90 [01:41<03:27,  3.40s/it]"
     ]
    },
    {
     "name": "stdout",
     "output_type": "stream",
     "text": [
      "Video drift-turn with n=63\n"
     ]
    },
    {
     "name": "stderr",
     "output_type": "stream",
     "text": [
      " 33%|███▎      | 30/90 [01:45<03:21,  3.35s/it]"
     ]
    },
    {
     "name": "stdout",
     "output_type": "stream",
     "text": [
      "Video car-turn with n=79\n"
     ]
    },
    {
     "name": "stderr",
     "output_type": "stream",
     "text": [
      " 34%|███▍      | 31/90 [01:49<03:30,  3.57s/it]"
     ]
    },
    {
     "name": "stdout",
     "output_type": "stream",
     "text": [
      "Video elephant with n=79\n"
     ]
    },
    {
     "name": "stderr",
     "output_type": "stream",
     "text": [
      " 36%|███▌      | 32/90 [01:53<03:36,  3.74s/it]"
     ]
    },
    {
     "name": "stdout",
     "output_type": "stream",
     "text": [
      "Video camel with n=89\n"
     ]
    },
    {
     "name": "stderr",
     "output_type": "stream",
     "text": [
      " 37%|███▋      | 33/90 [01:57<03:48,  4.02s/it]"
     ]
    },
    {
     "name": "stdout",
     "output_type": "stream",
     "text": [
      "Video night-race with n=45\n"
     ]
    },
    {
     "name": "stderr",
     "output_type": "stream",
     "text": [
      " 38%|███▊      | 34/90 [02:00<03:16,  3.50s/it]"
     ]
    },
    {
     "name": "stdout",
     "output_type": "stream",
     "text": [
      "Video soccerball with n=47\n"
     ]
    },
    {
     "name": "stderr",
     "output_type": "stream",
     "text": [
      " 39%|███▉      | 35/90 [02:02<02:55,  3.18s/it]"
     ]
    },
    {
     "name": "stdout",
     "output_type": "stream",
     "text": [
      "Video parkour with n=99\n"
     ]
    },
    {
     "name": "stderr",
     "output_type": "stream",
     "text": [
      " 40%|████      | 36/90 [02:07<03:23,  3.78s/it]"
     ]
    },
    {
     "name": "stdout",
     "output_type": "stream",
     "text": [
      "Video breakdance with n=83\n"
     ]
    },
    {
     "name": "stderr",
     "output_type": "stream",
     "text": [
      " 41%|████      | 37/90 [02:12<03:28,  3.94s/it]"
     ]
    },
    {
     "name": "stdout",
     "output_type": "stream",
     "text": [
      "Video schoolgirls with n=79\n"
     ]
    },
    {
     "name": "stderr",
     "output_type": "stream",
     "text": [
      " 42%|████▏     | 38/90 [02:16<03:29,  4.03s/it]"
     ]
    },
    {
     "name": "stdout",
     "output_type": "stream",
     "text": [
      "Video mbike-trick with n=78\n"
     ]
    },
    {
     "name": "stderr",
     "output_type": "stream",
     "text": [
      " 43%|████▎     | 39/90 [02:20<03:25,  4.03s/it]"
     ]
    },
    {
     "name": "stdout",
     "output_type": "stream",
     "text": [
      "Video mallard-fly with n=69\n"
     ]
    },
    {
     "name": "stderr",
     "output_type": "stream",
     "text": [
      " 44%|████▍     | 40/90 [02:24<03:15,  3.90s/it]"
     ]
    },
    {
     "name": "stdout",
     "output_type": "stream",
     "text": [
      "Video pigs with n=78\n"
     ]
    },
    {
     "name": "stderr",
     "output_type": "stream",
     "text": [
      " 46%|████▌     | 41/90 [02:28<03:14,  3.97s/it]"
     ]
    },
    {
     "name": "stdout",
     "output_type": "stream",
     "text": [
      "Video lab-coat with n=46\n"
     ]
    },
    {
     "name": "stderr",
     "output_type": "stream",
     "text": [
      " 47%|████▋     | 42/90 [02:30<02:47,  3.48s/it]"
     ]
    },
    {
     "name": "stdout",
     "output_type": "stream",
     "text": [
      "Video car-roundabout with n=74\n"
     ]
    },
    {
     "name": "stderr",
     "output_type": "stream",
     "text": [
      " 48%|████▊     | 43/90 [02:34<02:48,  3.59s/it]"
     ]
    },
    {
     "name": "stdout",
     "output_type": "stream",
     "text": [
      "Video shooting with n=39\n"
     ]
    },
    {
     "name": "stderr",
     "output_type": "stream",
     "text": [
      " 49%|████▉     | 44/90 [02:36<02:31,  3.30s/it]"
     ]
    },
    {
     "name": "stdout",
     "output_type": "stream",
     "text": [
      "Video bmx-trees with n=79\n"
     ]
    },
    {
     "name": "stderr",
     "output_type": "stream",
     "text": [
      " 50%|█████     | 45/90 [02:41<02:39,  3.55s/it]"
     ]
    },
    {
     "name": "stdout",
     "output_type": "stream",
     "text": [
      "Video color-run with n=83\n"
     ]
    },
    {
     "name": "stderr",
     "output_type": "stream",
     "text": [
      " 51%|█████     | 46/90 [02:45<02:45,  3.77s/it]"
     ]
    },
    {
     "name": "stdout",
     "output_type": "stream",
     "text": [
      "Video swing with n=59\n"
     ]
    },
    {
     "name": "stderr",
     "output_type": "stream",
     "text": [
      " 52%|█████▏    | 47/90 [02:48<02:33,  3.56s/it]"
     ]
    },
    {
     "name": "stdout",
     "output_type": "stream",
     "text": [
      "Video paragliding with n=69\n"
     ]
    },
    {
     "name": "stderr",
     "output_type": "stream",
     "text": [
      " 53%|█████▎    | 48/90 [02:52<02:29,  3.57s/it]"
     ]
    },
    {
     "name": "stdout",
     "output_type": "stream",
     "text": [
      "Video horsejump-high with n=49\n"
     ]
    },
    {
     "name": "stderr",
     "output_type": "stream",
     "text": [
      " 54%|█████▍    | 49/90 [02:54<02:13,  3.26s/it]"
     ]
    },
    {
     "name": "stdout",
     "output_type": "stream",
     "text": [
      "Video scooter-gray with n=74\n"
     ]
    },
    {
     "name": "stderr",
     "output_type": "stream",
     "text": [
      " 56%|█████▌    | 50/90 [02:58<02:17,  3.44s/it]"
     ]
    },
    {
     "name": "stdout",
     "output_type": "stream",
     "text": [
      "Video hike with n=79\n"
     ]
    },
    {
     "name": "stderr",
     "output_type": "stream",
     "text": [
      " 57%|█████▋    | 51/90 [03:02<02:22,  3.64s/it]"
     ]
    },
    {
     "name": "stdout",
     "output_type": "stream",
     "text": [
      "Video kite-walk with n=79\n"
     ]
    },
    {
     "name": "stderr",
     "output_type": "stream",
     "text": [
      " 58%|█████▊    | 52/90 [03:06<02:24,  3.79s/it]"
     ]
    },
    {
     "name": "stdout",
     "output_type": "stream",
     "text": [
      "Video mallard-water with n=79\n"
     ]
    },
    {
     "name": "stderr",
     "output_type": "stream",
     "text": [
      " 59%|█████▉    | 53/90 [03:10<02:23,  3.89s/it]"
     ]
    },
    {
     "name": "stdout",
     "output_type": "stream",
     "text": [
      "Video goat with n=89\n"
     ]
    },
    {
     "name": "stderr",
     "output_type": "stream",
     "text": [
      " 60%|██████    | 54/90 [03:15<02:28,  4.12s/it]"
     ]
    },
    {
     "name": "stdout",
     "output_type": "stream",
     "text": [
      "Video motorbike with n=42\n"
     ]
    },
    {
     "name": "stderr",
     "output_type": "stream",
     "text": [
      " 61%|██████    | 55/90 [03:17<02:03,  3.54s/it]"
     ]
    },
    {
     "name": "stdout",
     "output_type": "stream",
     "text": [
      "Video libby with n=48\n"
     ]
    },
    {
     "name": "stderr",
     "output_type": "stream",
     "text": [
      " 62%|██████▏   | 56/90 [03:20<01:49,  3.22s/it]"
     ]
    },
    {
     "name": "stdout",
     "output_type": "stream",
     "text": [
      "Video dogs-jump with n=65\n"
     ]
    },
    {
     "name": "stderr",
     "output_type": "stream",
     "text": [
      " 63%|██████▎   | 57/90 [03:23<01:47,  3.27s/it]"
     ]
    },
    {
     "name": "stdout",
     "output_type": "stream",
     "text": [
      "Video crossing with n=51\n"
     ]
    },
    {
     "name": "stderr",
     "output_type": "stream",
     "text": [
      " 64%|██████▍   | 58/90 [03:26<01:38,  3.09s/it]"
     ]
    },
    {
     "name": "stdout",
     "output_type": "stream",
     "text": [
      "Video loading with n=49\n"
     ]
    },
    {
     "name": "stderr",
     "output_type": "stream",
     "text": [
      " 66%|██████▌   | 59/90 [03:28<01:30,  2.92s/it]"
     ]
    },
    {
     "name": "stdout",
     "output_type": "stream",
     "text": [
      "Video scooter-board with n=90\n"
     ]
    },
    {
     "name": "stderr",
     "output_type": "stream",
     "text": [
      " 67%|██████▋   | 60/90 [03:33<01:43,  3.45s/it]"
     ]
    },
    {
     "name": "stdout",
     "output_type": "stream",
     "text": [
      "Video soapbox with n=98\n"
     ]
    },
    {
     "name": "stderr",
     "output_type": "stream",
     "text": [
      " 68%|██████▊   | 61/90 [03:38<01:54,  3.95s/it]"
     ]
    },
    {
     "name": "stdout",
     "output_type": "stream",
     "text": [
      "Video longboard with n=51\n"
     ]
    },
    {
     "name": "stderr",
     "output_type": "stream",
     "text": [
      " 69%|██████▉   | 62/90 [03:41<01:39,  3.56s/it]"
     ]
    },
    {
     "name": "stdout",
     "output_type": "stream",
     "text": [
      "Video boat with n=74\n"
     ]
    },
    {
     "name": "stderr",
     "output_type": "stream",
     "text": [
      " 70%|███████   | 63/90 [03:45<01:38,  3.66s/it]"
     ]
    },
    {
     "name": "stdout",
     "output_type": "stream",
     "text": [
      "Video dog with n=59\n"
     ]
    },
    {
     "name": "stderr",
     "output_type": "stream",
     "text": [
      " 71%|███████   | 64/90 [03:48<01:30,  3.48s/it]"
     ]
    },
    {
     "name": "stdout",
     "output_type": "stream",
     "text": [
      "Video dog-agility with n=24\n"
     ]
    },
    {
     "name": "stderr",
     "output_type": "stream",
     "text": [
      " 72%|███████▏  | 65/90 [03:49<01:09,  2.80s/it]"
     ]
    },
    {
     "name": "stdout",
     "output_type": "stream",
     "text": [
      "Video skate-park with n=79\n"
     ]
    },
    {
     "name": "stderr",
     "output_type": "stream",
     "text": [
      " 73%|███████▎  | 66/90 [03:53<01:16,  3.19s/it]"
     ]
    },
    {
     "name": "stdout",
     "output_type": "stream",
     "text": [
      "Video breakdance-flare with n=70\n"
     ]
    },
    {
     "name": "stderr",
     "output_type": "stream",
     "text": [
      " 74%|███████▍  | 67/90 [03:57<01:16,  3.33s/it]"
     ]
    },
    {
     "name": "stdout",
     "output_type": "stream",
     "text": [
      "Video disc-jockey with n=75\n"
     ]
    },
    {
     "name": "stderr",
     "output_type": "stream",
     "text": [
      " 76%|███████▌  | 68/90 [04:02<01:25,  3.87s/it]"
     ]
    },
    {
     "name": "stdout",
     "output_type": "stream",
     "text": [
      "Video tennis with n=69\n"
     ]
    },
    {
     "name": "stderr",
     "output_type": "stream",
     "text": [
      " 77%|███████▋  | 69/90 [04:05<01:19,  3.78s/it]"
     ]
    },
    {
     "name": "stdout",
     "output_type": "stream",
     "text": [
      "Video motocross-bumps with n=59\n"
     ]
    },
    {
     "name": "stderr",
     "output_type": "stream",
     "text": [
      " 78%|███████▊  | 70/90 [04:08<01:11,  3.56s/it]"
     ]
    },
    {
     "name": "stdout",
     "output_type": "stream",
     "text": [
      "Video dance-twirl with n=89\n"
     ]
    },
    {
     "name": "stderr",
     "output_type": "stream",
     "text": [
      " 79%|███████▉  | 71/90 [04:13<01:13,  3.88s/it]"
     ]
    },
    {
     "name": "stdout",
     "output_type": "stream",
     "text": [
      "Video rhino with n=89\n"
     ]
    },
    {
     "name": "stderr",
     "output_type": "stream",
     "text": [
      " 80%|████████  | 72/90 [04:18<01:14,  4.12s/it]"
     ]
    },
    {
     "name": "stdout",
     "output_type": "stream",
     "text": [
      "Video rollerblade with n=34\n"
     ]
    },
    {
     "name": "stderr",
     "output_type": "stream",
     "text": [
      " 81%|████████  | 73/90 [04:19<00:57,  3.40s/it]"
     ]
    },
    {
     "name": "stdout",
     "output_type": "stream",
     "text": [
      "Video kid-football with n=67\n"
     ]
    },
    {
     "name": "stderr",
     "output_type": "stream",
     "text": [
      " 82%|████████▏ | 74/90 [04:23<00:54,  3.43s/it]"
     ]
    },
    {
     "name": "stdout",
     "output_type": "stream",
     "text": [
      "Video dancing with n=61\n"
     ]
    },
    {
     "name": "stderr",
     "output_type": "stream",
     "text": [
      " 83%|████████▎ | 75/90 [04:26<00:50,  3.36s/it]"
     ]
    },
    {
     "name": "stdout",
     "output_type": "stream",
     "text": [
      "Video car-shadow with n=39\n"
     ]
    },
    {
     "name": "stderr",
     "output_type": "stream",
     "text": [
      " 84%|████████▍ | 76/90 [04:28<00:41,  2.95s/it]"
     ]
    },
    {
     "name": "stdout",
     "output_type": "stream",
     "text": [
      "Video paragliding-launch with n=79\n"
     ]
    },
    {
     "name": "stderr",
     "output_type": "stream",
     "text": [
      " 86%|████████▌ | 77/90 [04:32<00:43,  3.32s/it]"
     ]
    },
    {
     "name": "stdout",
     "output_type": "stream",
     "text": [
      "Video cat-girl with n=88\n"
     ]
    },
    {
     "name": "stderr",
     "output_type": "stream",
     "text": [
      " 87%|████████▋ | 78/90 [04:37<00:45,  3.77s/it]"
     ]
    },
    {
     "name": "stdout",
     "output_type": "stream",
     "text": [
      "Video horsejump-low with n=59\n"
     ]
    },
    {
     "name": "stderr",
     "output_type": "stream",
     "text": [
      " 88%|████████▊ | 79/90 [04:40<00:39,  3.57s/it]"
     ]
    },
    {
     "name": "stdout",
     "output_type": "stream",
     "text": [
      "Video miami-surf with n=69\n"
     ]
    },
    {
     "name": "stderr",
     "output_type": "stream",
     "text": [
      " 89%|████████▉ | 80/90 [04:44<00:35,  3.57s/it]"
     ]
    },
    {
     "name": "stdout",
     "output_type": "stream",
     "text": [
      "Video snowboard with n=65\n"
     ]
    },
    {
     "name": "stderr",
     "output_type": "stream",
     "text": [
      " 90%|█████████ | 81/90 [04:47<00:31,  3.52s/it]"
     ]
    },
    {
     "name": "stdout",
     "output_type": "stream",
     "text": [
      "Video stroller with n=90\n"
     ]
    },
    {
     "name": "stderr",
     "output_type": "stream",
     "text": [
      " 91%|█████████ | 82/90 [04:52<00:30,  3.87s/it]"
     ]
    },
    {
     "name": "stdout",
     "output_type": "stream",
     "text": [
      "Video bear with n=81\n"
     ]
    },
    {
     "name": "stderr",
     "output_type": "stream",
     "text": [
      " 92%|█████████▏| 83/90 [04:56<00:27,  3.98s/it]"
     ]
    },
    {
     "name": "stdout",
     "output_type": "stream",
     "text": [
      "Video bmx-bumps with n=89\n"
     ]
    },
    {
     "name": "stderr",
     "output_type": "stream",
     "text": [
      " 93%|█████████▎| 84/90 [05:01<00:25,  4.18s/it]"
     ]
    },
    {
     "name": "stdout",
     "output_type": "stream",
     "text": [
      "Video classic-car with n=62\n"
     ]
    },
    {
     "name": "stderr",
     "output_type": "stream",
     "text": [
      " 94%|█████████▍| 85/90 [05:04<00:19,  3.87s/it]"
     ]
    },
    {
     "name": "stdout",
     "output_type": "stream",
     "text": [
      "Video motocross-jump with n=39\n"
     ]
    },
    {
     "name": "stderr",
     "output_type": "stream",
     "text": [
      " 96%|█████████▌| 86/90 [05:06<00:13,  3.31s/it]"
     ]
    },
    {
     "name": "stdout",
     "output_type": "stream",
     "text": [
      "Video dogs-scale with n=82\n"
     ]
    },
    {
     "name": "stderr",
     "output_type": "stream",
     "text": [
      " 97%|█████████▋| 87/90 [05:10<00:10,  3.61s/it]"
     ]
    },
    {
     "name": "stdout",
     "output_type": "stream",
     "text": [
      "Video train with n=79\n"
     ]
    },
    {
     "name": "stderr",
     "output_type": "stream",
     "text": [
      " 98%|█████████▊| 88/90 [05:14<00:07,  3.77s/it]"
     ]
    },
    {
     "name": "stdout",
     "output_type": "stream",
     "text": [
      "Video tuk-tuk with n=58\n"
     ]
    },
    {
     "name": "stderr",
     "output_type": "stream",
     "text": [
      " 99%|█████████▉| 89/90 [05:17<00:03,  3.53s/it]"
     ]
    },
    {
     "name": "stdout",
     "output_type": "stream",
     "text": [
      "Video sheep with n=67\n"
     ]
    },
    {
     "name": "stderr",
     "output_type": "stream",
     "text": [
      "100%|██████████| 90/90 [05:21<00:00,  3.57s/it]"
     ]
    },
    {
     "name": "stdout",
     "output_type": "stream",
     "text": [
      "J = 0.3316103750275892, F = 0.3761936327937774, J&F = 0.35390200391068327\n"
     ]
    },
    {
     "name": "stderr",
     "output_type": "stream",
     "text": [
      "\n"
     ]
    },
    {
     "data": {
      "text/plain": [
       "array([0.33161038, 0.37619363])"
      ]
     },
     "execution_count": 2,
     "metadata": {},
     "output_type": "execute_result"
    }
   ],
   "source": [
    "model_path = \"./SIAM_CROSS_5.pt\"\n",
    "model = sim_mae_vit_tiny_patch8_dec512d8b()\n",
    "model = model.to(device)\n",
    "state_dict = torch.load(model_path)\n",
    "state_dict = {k.replace(\"module.\", \"\"): v for k, v in state_dict.items()}\n",
    "model.load_state_dict(state_dict)\n",
    "\n",
    "test_name = \"SIAM_CROSS_5\"\n",
    "\n",
    "for video_name in video_names:\n",
    "    eval_video(model, test_name, video_name, videos_path, labels_path, queue_length=20, topk=7, size_neighbourhood=7, output_dir=\"./outputs/\")\n",
    "eval_model(video_names, videos_path, labels_path, \"./outputs/\", test_name)"
   ]
  },
  {
   "cell_type": "code",
   "execution_count": 2,
   "metadata": {},
   "outputs": [
    {
     "name": "stderr",
     "output_type": "stream",
     "text": [
      "/tmp/ipykernel_266134/1109358480.py:4: FutureWarning: You are using `torch.load` with `weights_only=False` (the current default value), which uses the default pickle module implicitly. It is possible to construct malicious pickle data which will execute arbitrary code during unpickling (See https://github.com/pytorch/pytorch/blob/main/SECURITY.md#untrusted-models for more details). In a future release, the default value for `weights_only` will be flipped to `True`. This limits the functions that could be executed during unpickling. Arbitrary objects will no longer be allowed to be loaded via this mode unless they are explicitly allowlisted by the user via `torch.serialization.add_safe_globals`. We recommend you start setting `weights_only=True` for any use case where you don't have full control of the loaded file. Please open an issue on GitHub for any issues related to this experimental feature.\n",
      "  state_dict = torch.load(model_path)\n",
      "Processing frames:   0%|          | 0/64 [00:00<?, ?it/s]/home/omidfm/DD2412_Project/eval.py:160: UserWarning: torch.sparse.SparseTensor(indices, values, shape, *, device=) is deprecated.  Please use torch.sparse_coo_tensor(indices, values, shape, dtype=, device=). (Triggered internally at ../torch/csrc/utils/tensor_new.cpp:651.)\n",
      "  mask = torch.sparse.FloatTensor(\n",
      "Processing frames: 100%|██████████| 64/64 [00:06<00:00, 10.17it/s]\n",
      "Processing frames: 100%|██████████| 75/75 [00:07<00:00, 10.26it/s]\n",
      "Processing frames: 100%|██████████| 69/69 [00:06<00:00, 10.38it/s]\n",
      "Processing frames: 100%|██████████| 66/66 [00:06<00:00, 10.34it/s]\n",
      "Processing frames: 100%|██████████| 77/77 [00:07<00:00, 10.36it/s]\n",
      "Processing frames: 100%|██████████| 68/68 [00:06<00:00, 10.31it/s]\n",
      "Processing frames: 100%|██████████| 79/79 [00:07<00:00, 10.20it/s]\n",
      "Processing frames: 100%|██████████| 79/79 [00:07<00:00, 10.08it/s]\n",
      "Processing frames: 100%|██████████| 99/99 [00:09<00:00, 10.31it/s]\n",
      "Processing frames: 100%|██████████| 59/59 [00:05<00:00, 10.44it/s]\n",
      "Processing frames: 100%|██████████| 54/54 [00:05<00:00, 10.56it/s]\n",
      "Processing frames: 100%|██████████| 49/49 [00:04<00:00, 10.64it/s]\n",
      "Processing frames: 100%|██████████| 49/49 [00:04<00:00, 10.44it/s]\n",
      "Processing frames: 100%|██████████| 49/49 [00:04<00:00, 10.59it/s]\n",
      "Processing frames: 100%|██████████| 49/49 [00:04<00:00, 10.42it/s]\n",
      "Processing frames: 100%|██████████| 71/71 [00:07<00:00, 10.10it/s]\n",
      "Processing frames: 100%|██████████| 72/72 [00:07<00:00, 10.18it/s]\n",
      "Processing frames: 100%|██████████| 103/103 [00:10<00:00, 10.21it/s]\n",
      "Processing frames: 100%|██████████| 37/37 [00:03<00:00, 10.48it/s]\n",
      "Processing frames: 100%|██████████| 86/86 [00:08<00:00, 10.40it/s]\n",
      "Processing frames: 100%|██████████| 51/51 [00:04<00:00, 10.63it/s]\n",
      "Processing frames: 100%|██████████| 42/42 [00:03<00:00, 10.60it/s]\n",
      "Processing frames: 100%|██████████| 74/74 [00:07<00:00, 10.50it/s]\n",
      "Processing frames: 100%|██████████| 90/90 [00:08<00:00, 10.39it/s]\n",
      "Processing frames: 100%|██████████| 64/64 [00:06<00:00, 10.25it/s]\n",
      "Processing frames: 100%|██████████| 80/80 [00:07<00:00, 10.32it/s]\n",
      "Processing frames: 100%|██████████| 85/85 [00:08<00:00, 10.15it/s]\n",
      "Processing frames: 100%|██████████| 33/33 [00:03<00:00, 10.45it/s]\n",
      "Processing frames: 100%|██████████| 70/70 [00:06<00:00, 10.39it/s]\n",
      "Processing frames: 100%|██████████| 63/63 [00:06<00:00, 10.45it/s]\n",
      "Processing frames: 100%|██████████| 79/79 [00:07<00:00, 10.33it/s]\n",
      "Processing frames: 100%|██████████| 79/79 [00:07<00:00, 10.33it/s]\n",
      "Processing frames: 100%|██████████| 89/89 [00:08<00:00, 10.20it/s]\n",
      "Processing frames: 100%|██████████| 45/45 [00:04<00:00, 10.30it/s]\n",
      "Processing frames: 100%|██████████| 47/47 [00:04<00:00, 10.50it/s]\n",
      "Processing frames: 100%|██████████| 99/99 [00:09<00:00, 10.18it/s]\n",
      "Processing frames: 100%|██████████| 83/83 [00:08<00:00, 10.32it/s]\n",
      "Processing frames: 100%|██████████| 79/79 [00:07<00:00, 10.33it/s]\n",
      "Processing frames: 100%|██████████| 78/78 [00:07<00:00, 10.58it/s]\n",
      "Processing frames: 100%|██████████| 69/69 [00:06<00:00, 10.52it/s]\n",
      "Processing frames: 100%|██████████| 78/78 [00:07<00:00, 10.23it/s]\n",
      "Processing frames: 100%|██████████| 46/46 [00:04<00:00, 10.51it/s]\n",
      "Processing frames: 100%|██████████| 74/74 [00:07<00:00, 10.33it/s]\n",
      "Processing frames: 100%|██████████| 39/39 [00:03<00:00, 10.40it/s]\n",
      "Processing frames: 100%|██████████| 79/79 [00:07<00:00, 10.42it/s]\n",
      "Processing frames: 100%|██████████| 83/83 [00:08<00:00, 10.35it/s]\n",
      "Processing frames: 100%|██████████| 59/59 [00:05<00:00, 10.54it/s]\n",
      "Processing frames: 100%|██████████| 69/69 [00:06<00:00, 10.11it/s]\n",
      "Processing frames: 100%|██████████| 49/49 [00:04<00:00, 10.74it/s]\n",
      "Processing frames: 100%|██████████| 74/74 [00:07<00:00, 10.44it/s]\n",
      "Processing frames: 100%|██████████| 79/79 [00:07<00:00, 10.31it/s]\n",
      "Processing frames: 100%|██████████| 79/79 [00:07<00:00, 10.45it/s]\n",
      "Processing frames: 100%|██████████| 79/79 [00:07<00:00, 10.41it/s]\n",
      "Processing frames: 100%|██████████| 89/89 [00:08<00:00, 10.28it/s]\n",
      "Processing frames: 100%|██████████| 42/42 [00:04<00:00, 10.15it/s]\n",
      "Processing frames: 100%|██████████| 48/48 [00:04<00:00, 10.48it/s]\n",
      "Processing frames: 100%|██████████| 65/65 [00:06<00:00, 10.39it/s]\n",
      "Processing frames: 100%|██████████| 51/51 [00:04<00:00, 10.32it/s]\n",
      "Processing frames: 100%|██████████| 49/49 [00:04<00:00, 10.10it/s]\n",
      "Processing frames: 100%|██████████| 90/90 [00:08<00:00, 10.51it/s]\n",
      "Processing frames: 100%|██████████| 98/98 [00:09<00:00, 10.43it/s]\n",
      "Processing frames: 100%|██████████| 51/51 [00:04<00:00, 10.53it/s]\n",
      "Processing frames: 100%|██████████| 74/74 [00:07<00:00, 10.53it/s]\n",
      "Processing frames: 100%|██████████| 59/59 [00:05<00:00, 10.40it/s]\n",
      "Processing frames: 100%|██████████| 24/24 [00:02<00:00, 10.70it/s]\n",
      "Processing frames: 100%|██████████| 79/79 [00:07<00:00, 10.55it/s]\n",
      "Processing frames: 100%|██████████| 70/70 [00:06<00:00, 10.38it/s]\n",
      "Processing frames: 100%|██████████| 75/75 [00:07<00:00, 10.22it/s]\n",
      "Processing frames: 100%|██████████| 69/69 [00:06<00:00, 10.35it/s]\n",
      "Processing frames: 100%|██████████| 59/59 [00:05<00:00, 10.54it/s]\n",
      "Processing frames: 100%|██████████| 89/89 [00:08<00:00, 10.40it/s]\n",
      "Processing frames: 100%|██████████| 89/89 [00:08<00:00, 10.18it/s]\n",
      "Processing frames: 100%|██████████| 34/34 [00:03<00:00, 10.77it/s]\n",
      "Processing frames: 100%|██████████| 67/67 [00:06<00:00, 10.32it/s]\n",
      "Processing frames: 100%|██████████| 61/61 [00:05<00:00, 10.34it/s]\n",
      "Processing frames: 100%|██████████| 39/39 [00:03<00:00, 10.06it/s]\n",
      "Processing frames: 100%|██████████| 79/79 [00:07<00:00, 10.40it/s]\n",
      "Processing frames: 100%|██████████| 88/88 [00:08<00:00, 10.11it/s]\n",
      "Processing frames: 100%|██████████| 59/59 [00:05<00:00, 10.39it/s]\n",
      "Processing frames: 100%|██████████| 69/69 [00:06<00:00, 10.44it/s]\n",
      "Processing frames: 100%|██████████| 65/65 [00:06<00:00, 10.44it/s]\n",
      "Processing frames: 100%|██████████| 90/90 [00:08<00:00, 10.42it/s]\n",
      "Processing frames: 100%|██████████| 81/81 [00:07<00:00, 10.31it/s]\n",
      "Processing frames: 100%|██████████| 89/89 [00:08<00:00, 10.39it/s]\n",
      "Processing frames: 100%|██████████| 62/62 [00:05<00:00, 10.36it/s]\n",
      "Processing frames: 100%|██████████| 39/39 [00:03<00:00, 10.47it/s]\n",
      "Processing frames: 100%|██████████| 82/82 [00:08<00:00, 10.18it/s]\n",
      "Processing frames: 100%|██████████| 79/79 [00:07<00:00, 10.28it/s]\n",
      "Processing frames: 100%|██████████| 58/58 [00:05<00:00,  9.98it/s]\n",
      "Processing frames: 100%|██████████| 67/67 [00:06<00:00, 10.11it/s]\n",
      "  0%|          | 0/90 [00:00<?, ?it/s]"
     ]
    },
    {
     "name": "stdout",
     "output_type": "stream",
     "text": [
      "Video lady-running with n=64\n"
     ]
    },
    {
     "name": "stderr",
     "output_type": "stream",
     "text": [
      "  1%|          | 1/90 [00:03<04:57,  3.35s/it]"
     ]
    },
    {
     "name": "stdout",
     "output_type": "stream",
     "text": [
      "Video tractor-sand with n=75\n"
     ]
    },
    {
     "name": "stderr",
     "output_type": "stream",
     "text": [
      "  2%|▏         | 2/90 [00:07<05:24,  3.69s/it]"
     ]
    },
    {
     "name": "stdout",
     "output_type": "stream",
     "text": [
      "Video lucia with n=69\n"
     ]
    },
    {
     "name": "stderr",
     "output_type": "stream",
     "text": [
      "  3%|▎         | 3/90 [00:10<05:17,  3.65s/it]"
     ]
    },
    {
     "name": "stdout",
     "output_type": "stream",
     "text": [
      "Video varanus-cage with n=66\n"
     ]
    },
    {
     "name": "stderr",
     "output_type": "stream",
     "text": [
      "  4%|▍         | 4/90 [00:14<05:06,  3.56s/it]"
     ]
    },
    {
     "name": "stdout",
     "output_type": "stream",
     "text": [
      "Video gold-fish with n=77\n"
     ]
    },
    {
     "name": "stderr",
     "output_type": "stream",
     "text": [
      "  6%|▌         | 5/90 [00:18<05:20,  3.76s/it]"
     ]
    },
    {
     "name": "stdout",
     "output_type": "stream",
     "text": [
      "Video bike-packing with n=68\n"
     ]
    },
    {
     "name": "stderr",
     "output_type": "stream",
     "text": [
      "  7%|▋         | 6/90 [00:22<05:18,  3.79s/it]"
     ]
    },
    {
     "name": "stdout",
     "output_type": "stream",
     "text": [
      "Video flamingo with n=79\n"
     ]
    },
    {
     "name": "stderr",
     "output_type": "stream",
     "text": [
      "  8%|▊         | 7/90 [00:26<05:23,  3.90s/it]"
     ]
    },
    {
     "name": "stdout",
     "output_type": "stream",
     "text": [
      "Video bus with n=79\n"
     ]
    },
    {
     "name": "stderr",
     "output_type": "stream",
     "text": [
      "  9%|▉         | 8/90 [00:30<05:26,  3.98s/it]"
     ]
    },
    {
     "name": "stdout",
     "output_type": "stream",
     "text": [
      "Video koala with n=99\n"
     ]
    },
    {
     "name": "stderr",
     "output_type": "stream",
     "text": [
      " 10%|█         | 9/90 [00:35<05:49,  4.31s/it]"
     ]
    },
    {
     "name": "stdout",
     "output_type": "stream",
     "text": [
      "Video dance-jump with n=59\n"
     ]
    },
    {
     "name": "stderr",
     "output_type": "stream",
     "text": [
      " 11%|█         | 10/90 [00:38<05:14,  3.93s/it]"
     ]
    },
    {
     "name": "stdout",
     "output_type": "stream",
     "text": [
      "Video surf with n=54\n"
     ]
    },
    {
     "name": "stderr",
     "output_type": "stream",
     "text": [
      " 12%|█▏        | 11/90 [00:41<04:43,  3.59s/it]"
     ]
    },
    {
     "name": "stdout",
     "output_type": "stream",
     "text": [
      "Video drift-straight with n=49\n"
     ]
    },
    {
     "name": "stderr",
     "output_type": "stream",
     "text": [
      " 13%|█▎        | 12/90 [00:44<04:14,  3.26s/it]"
     ]
    },
    {
     "name": "stdout",
     "output_type": "stream",
     "text": [
      "Video rallye with n=49\n"
     ]
    },
    {
     "name": "stderr",
     "output_type": "stream",
     "text": [
      " 14%|█▍        | 13/90 [00:46<03:54,  3.04s/it]"
     ]
    },
    {
     "name": "stdout",
     "output_type": "stream",
     "text": [
      "Video kite-surf with n=49\n"
     ]
    },
    {
     "name": "stderr",
     "output_type": "stream",
     "text": [
      " 16%|█▌        | 14/90 [00:49<03:39,  2.89s/it]"
     ]
    },
    {
     "name": "stdout",
     "output_type": "stream",
     "text": [
      "Video blackswan with n=49\n"
     ]
    },
    {
     "name": "stderr",
     "output_type": "stream",
     "text": [
      " 17%|█▋        | 15/90 [00:51<03:29,  2.79s/it]"
     ]
    },
    {
     "name": "stdout",
     "output_type": "stream",
     "text": [
      "Video walking with n=71\n"
     ]
    },
    {
     "name": "stderr",
     "output_type": "stream",
     "text": [
      " 18%|█▊        | 16/90 [00:55<03:48,  3.09s/it]"
     ]
    },
    {
     "name": "stdout",
     "output_type": "stream",
     "text": [
      "Video lindy-hop with n=72\n"
     ]
    },
    {
     "name": "stderr",
     "output_type": "stream",
     "text": [
      " 19%|█▉        | 17/90 [00:59<04:02,  3.32s/it]"
     ]
    },
    {
     "name": "stdout",
     "output_type": "stream",
     "text": [
      "Video cows with n=103\n"
     ]
    },
    {
     "name": "stderr",
     "output_type": "stream",
     "text": [
      " 20%|██        | 18/90 [01:04<04:44,  3.95s/it]"
     ]
    },
    {
     "name": "stdout",
     "output_type": "stream",
     "text": [
      "Video planes-water with n=37\n"
     ]
    },
    {
     "name": "stderr",
     "output_type": "stream",
     "text": [
      " 21%|██        | 19/90 [01:06<03:56,  3.34s/it]"
     ]
    },
    {
     "name": "stdout",
     "output_type": "stream",
     "text": [
      "Video boxing-fisheye with n=86\n"
     ]
    },
    {
     "name": "stderr",
     "output_type": "stream",
     "text": [
      " 22%|██▏       | 20/90 [01:11<04:18,  3.70s/it]"
     ]
    },
    {
     "name": "stdout",
     "output_type": "stream",
     "text": [
      "Video drift-chicane with n=51\n"
     ]
    },
    {
     "name": "stderr",
     "output_type": "stream",
     "text": [
      " 23%|██▎       | 21/90 [01:13<03:53,  3.38s/it]"
     ]
    },
    {
     "name": "stdout",
     "output_type": "stream",
     "text": [
      "Video scooter-black with n=42\n"
     ]
    },
    {
     "name": "stderr",
     "output_type": "stream",
     "text": [
      " 24%|██▍       | 22/90 [01:15<03:25,  3.02s/it]"
     ]
    },
    {
     "name": "stdout",
     "output_type": "stream",
     "text": [
      "Video hockey with n=74\n"
     ]
    },
    {
     "name": "stderr",
     "output_type": "stream",
     "text": [
      " 26%|██▌       | 23/90 [01:19<03:39,  3.27s/it]"
     ]
    },
    {
     "name": "stdout",
     "output_type": "stream",
     "text": [
      "Video drone with n=90\n"
     ]
    },
    {
     "name": "stderr",
     "output_type": "stream",
     "text": [
      " 27%|██▋       | 24/90 [01:24<04:04,  3.71s/it]"
     ]
    },
    {
     "name": "stdout",
     "output_type": "stream",
     "text": [
      "Video upside-down with n=64\n"
     ]
    },
    {
     "name": "stderr",
     "output_type": "stream",
     "text": [
      " 28%|██▊       | 25/90 [01:27<03:55,  3.62s/it]"
     ]
    },
    {
     "name": "stdout",
     "output_type": "stream",
     "text": [
      "Video india with n=80\n"
     ]
    },
    {
     "name": "stderr",
     "output_type": "stream",
     "text": [
      " 29%|██▉       | 26/90 [01:32<04:03,  3.80s/it]"
     ]
    },
    {
     "name": "stdout",
     "output_type": "stream",
     "text": [
      "Video dog-gooses with n=85\n"
     ]
    },
    {
     "name": "stderr",
     "output_type": "stream",
     "text": [
      " 30%|███       | 27/90 [01:36<04:12,  4.00s/it]"
     ]
    },
    {
     "name": "stdout",
     "output_type": "stream",
     "text": [
      "Video judo with n=33\n"
     ]
    },
    {
     "name": "stderr",
     "output_type": "stream",
     "text": [
      " 31%|███       | 28/90 [01:38<03:25,  3.31s/it]"
     ]
    },
    {
     "name": "stdout",
     "output_type": "stream",
     "text": [
      "Video stunt with n=70\n"
     ]
    },
    {
     "name": "stderr",
     "output_type": "stream",
     "text": [
      " 32%|███▏      | 29/90 [01:42<03:28,  3.41s/it]"
     ]
    },
    {
     "name": "stdout",
     "output_type": "stream",
     "text": [
      "Video drift-turn with n=63\n"
     ]
    },
    {
     "name": "stderr",
     "output_type": "stream",
     "text": [
      " 33%|███▎      | 30/90 [01:45<03:21,  3.36s/it]"
     ]
    },
    {
     "name": "stdout",
     "output_type": "stream",
     "text": [
      "Video car-turn with n=79\n"
     ]
    },
    {
     "name": "stderr",
     "output_type": "stream",
     "text": [
      " 34%|███▍      | 31/90 [01:49<03:31,  3.58s/it]"
     ]
    },
    {
     "name": "stdout",
     "output_type": "stream",
     "text": [
      "Video elephant with n=79\n"
     ]
    },
    {
     "name": "stderr",
     "output_type": "stream",
     "text": [
      " 36%|███▌      | 32/90 [01:53<03:37,  3.75s/it]"
     ]
    },
    {
     "name": "stdout",
     "output_type": "stream",
     "text": [
      "Video camel with n=89\n"
     ]
    },
    {
     "name": "stderr",
     "output_type": "stream",
     "text": [
      " 37%|███▋      | 33/90 [01:58<03:49,  4.03s/it]"
     ]
    },
    {
     "name": "stdout",
     "output_type": "stream",
     "text": [
      "Video night-race with n=45\n"
     ]
    },
    {
     "name": "stderr",
     "output_type": "stream",
     "text": [
      " 38%|███▊      | 34/90 [02:00<03:16,  3.51s/it]"
     ]
    },
    {
     "name": "stdout",
     "output_type": "stream",
     "text": [
      "Video soccerball with n=47\n"
     ]
    },
    {
     "name": "stderr",
     "output_type": "stream",
     "text": [
      " 39%|███▉      | 35/90 [02:02<02:55,  3.19s/it]"
     ]
    },
    {
     "name": "stdout",
     "output_type": "stream",
     "text": [
      "Video parkour with n=99\n"
     ]
    },
    {
     "name": "stderr",
     "output_type": "stream",
     "text": [
      " 40%|████      | 36/90 [02:08<03:24,  3.79s/it]"
     ]
    },
    {
     "name": "stdout",
     "output_type": "stream",
     "text": [
      "Video breakdance with n=83\n"
     ]
    },
    {
     "name": "stderr",
     "output_type": "stream",
     "text": [
      " 41%|████      | 37/90 [02:12<03:29,  3.95s/it]"
     ]
    },
    {
     "name": "stdout",
     "output_type": "stream",
     "text": [
      "Video schoolgirls with n=79\n"
     ]
    },
    {
     "name": "stderr",
     "output_type": "stream",
     "text": [
      " 42%|████▏     | 38/90 [02:16<03:29,  4.03s/it]"
     ]
    },
    {
     "name": "stdout",
     "output_type": "stream",
     "text": [
      "Video mbike-trick with n=78\n"
     ]
    },
    {
     "name": "stderr",
     "output_type": "stream",
     "text": [
      " 43%|████▎     | 39/90 [02:20<03:26,  4.04s/it]"
     ]
    },
    {
     "name": "stdout",
     "output_type": "stream",
     "text": [
      "Video mallard-fly with n=69\n"
     ]
    },
    {
     "name": "stderr",
     "output_type": "stream",
     "text": [
      " 44%|████▍     | 40/90 [02:24<03:15,  3.91s/it]"
     ]
    },
    {
     "name": "stdout",
     "output_type": "stream",
     "text": [
      "Video pigs with n=78\n"
     ]
    },
    {
     "name": "stderr",
     "output_type": "stream",
     "text": [
      " 46%|████▌     | 41/90 [02:28<03:14,  3.98s/it]"
     ]
    },
    {
     "name": "stdout",
     "output_type": "stream",
     "text": [
      "Video lab-coat with n=46\n"
     ]
    },
    {
     "name": "stderr",
     "output_type": "stream",
     "text": [
      " 47%|████▋     | 42/90 [02:30<02:47,  3.49s/it]"
     ]
    },
    {
     "name": "stdout",
     "output_type": "stream",
     "text": [
      "Video car-roundabout with n=74\n"
     ]
    },
    {
     "name": "stderr",
     "output_type": "stream",
     "text": [
      " 48%|████▊     | 43/90 [02:34<02:49,  3.60s/it]"
     ]
    },
    {
     "name": "stdout",
     "output_type": "stream",
     "text": [
      "Video shooting with n=39\n"
     ]
    },
    {
     "name": "stderr",
     "output_type": "stream",
     "text": [
      " 49%|████▉     | 44/90 [02:37<02:33,  3.33s/it]"
     ]
    },
    {
     "name": "stdout",
     "output_type": "stream",
     "text": [
      "Video bmx-trees with n=79\n"
     ]
    },
    {
     "name": "stderr",
     "output_type": "stream",
     "text": [
      " 50%|█████     | 45/90 [02:41<02:40,  3.57s/it]"
     ]
    },
    {
     "name": "stdout",
     "output_type": "stream",
     "text": [
      "Video color-run with n=83\n"
     ]
    },
    {
     "name": "stderr",
     "output_type": "stream",
     "text": [
      " 51%|█████     | 46/90 [02:45<02:46,  3.79s/it]"
     ]
    },
    {
     "name": "stdout",
     "output_type": "stream",
     "text": [
      "Video swing with n=59\n"
     ]
    },
    {
     "name": "stderr",
     "output_type": "stream",
     "text": [
      " 52%|█████▏    | 47/90 [02:48<02:33,  3.58s/it]"
     ]
    },
    {
     "name": "stdout",
     "output_type": "stream",
     "text": [
      "Video paragliding with n=69\n"
     ]
    },
    {
     "name": "stderr",
     "output_type": "stream",
     "text": [
      " 53%|█████▎    | 48/90 [02:52<02:30,  3.58s/it]"
     ]
    },
    {
     "name": "stdout",
     "output_type": "stream",
     "text": [
      "Video horsejump-high with n=49\n"
     ]
    },
    {
     "name": "stderr",
     "output_type": "stream",
     "text": [
      " 54%|█████▍    | 49/90 [02:54<02:13,  3.27s/it]"
     ]
    },
    {
     "name": "stdout",
     "output_type": "stream",
     "text": [
      "Video scooter-gray with n=74\n"
     ]
    },
    {
     "name": "stderr",
     "output_type": "stream",
     "text": [
      " 56%|█████▌    | 50/90 [02:58<02:17,  3.45s/it]"
     ]
    },
    {
     "name": "stdout",
     "output_type": "stream",
     "text": [
      "Video hike with n=79\n"
     ]
    },
    {
     "name": "stderr",
     "output_type": "stream",
     "text": [
      " 57%|█████▋    | 51/90 [03:02<02:22,  3.66s/it]"
     ]
    },
    {
     "name": "stdout",
     "output_type": "stream",
     "text": [
      "Video kite-walk with n=79\n"
     ]
    },
    {
     "name": "stderr",
     "output_type": "stream",
     "text": [
      " 58%|█████▊    | 52/90 [03:07<02:24,  3.80s/it]"
     ]
    },
    {
     "name": "stdout",
     "output_type": "stream",
     "text": [
      "Video mallard-water with n=79\n"
     ]
    },
    {
     "name": "stderr",
     "output_type": "stream",
     "text": [
      " 59%|█████▉    | 53/90 [03:11<02:24,  3.90s/it]"
     ]
    },
    {
     "name": "stdout",
     "output_type": "stream",
     "text": [
      "Video goat with n=89\n"
     ]
    },
    {
     "name": "stderr",
     "output_type": "stream",
     "text": [
      " 60%|██████    | 54/90 [03:15<02:28,  4.13s/it]"
     ]
    },
    {
     "name": "stdout",
     "output_type": "stream",
     "text": [
      "Video motorbike with n=42\n"
     ]
    },
    {
     "name": "stderr",
     "output_type": "stream",
     "text": [
      " 61%|██████    | 55/90 [03:18<02:04,  3.54s/it]"
     ]
    },
    {
     "name": "stdout",
     "output_type": "stream",
     "text": [
      "Video libby with n=48\n"
     ]
    },
    {
     "name": "stderr",
     "output_type": "stream",
     "text": [
      " 62%|██████▏   | 56/90 [03:20<01:49,  3.23s/it]"
     ]
    },
    {
     "name": "stdout",
     "output_type": "stream",
     "text": [
      "Video dogs-jump with n=65\n"
     ]
    },
    {
     "name": "stderr",
     "output_type": "stream",
     "text": [
      " 63%|██████▎   | 57/90 [03:23<01:48,  3.28s/it]"
     ]
    },
    {
     "name": "stdout",
     "output_type": "stream",
     "text": [
      "Video crossing with n=51\n"
     ]
    },
    {
     "name": "stderr",
     "output_type": "stream",
     "text": [
      " 64%|██████▍   | 58/90 [03:26<01:39,  3.09s/it]"
     ]
    },
    {
     "name": "stdout",
     "output_type": "stream",
     "text": [
      "Video loading with n=49\n"
     ]
    },
    {
     "name": "stderr",
     "output_type": "stream",
     "text": [
      " 66%|██████▌   | 59/90 [03:29<01:30,  2.91s/it]"
     ]
    },
    {
     "name": "stdout",
     "output_type": "stream",
     "text": [
      "Video scooter-board with n=90\n"
     ]
    },
    {
     "name": "stderr",
     "output_type": "stream",
     "text": [
      " 67%|██████▋   | 60/90 [03:33<01:43,  3.45s/it]"
     ]
    },
    {
     "name": "stdout",
     "output_type": "stream",
     "text": [
      "Video soapbox with n=98\n"
     ]
    },
    {
     "name": "stderr",
     "output_type": "stream",
     "text": [
      " 68%|██████▊   | 61/90 [03:38<01:54,  3.95s/it]"
     ]
    },
    {
     "name": "stdout",
     "output_type": "stream",
     "text": [
      "Video longboard with n=51\n"
     ]
    },
    {
     "name": "stderr",
     "output_type": "stream",
     "text": [
      " 69%|██████▉   | 62/90 [03:41<01:39,  3.57s/it]"
     ]
    },
    {
     "name": "stdout",
     "output_type": "stream",
     "text": [
      "Video boat with n=74\n"
     ]
    },
    {
     "name": "stderr",
     "output_type": "stream",
     "text": [
      " 70%|███████   | 63/90 [03:45<01:38,  3.66s/it]"
     ]
    },
    {
     "name": "stdout",
     "output_type": "stream",
     "text": [
      "Video dog with n=59\n"
     ]
    },
    {
     "name": "stderr",
     "output_type": "stream",
     "text": [
      " 71%|███████   | 64/90 [03:48<01:30,  3.48s/it]"
     ]
    },
    {
     "name": "stdout",
     "output_type": "stream",
     "text": [
      "Video dog-agility with n=24\n"
     ]
    },
    {
     "name": "stderr",
     "output_type": "stream",
     "text": [
      " 72%|███████▏  | 65/90 [03:49<01:10,  2.80s/it]"
     ]
    },
    {
     "name": "stdout",
     "output_type": "stream",
     "text": [
      "Video skate-park with n=79\n"
     ]
    },
    {
     "name": "stderr",
     "output_type": "stream",
     "text": [
      " 73%|███████▎  | 66/90 [03:53<01:16,  3.20s/it]"
     ]
    },
    {
     "name": "stdout",
     "output_type": "stream",
     "text": [
      "Video breakdance-flare with n=70\n"
     ]
    },
    {
     "name": "stderr",
     "output_type": "stream",
     "text": [
      " 74%|███████▍  | 67/90 [03:57<01:16,  3.33s/it]"
     ]
    },
    {
     "name": "stdout",
     "output_type": "stream",
     "text": [
      "Video disc-jockey with n=75\n"
     ]
    },
    {
     "name": "stderr",
     "output_type": "stream",
     "text": [
      " 76%|███████▌  | 68/90 [04:02<01:26,  3.91s/it]"
     ]
    },
    {
     "name": "stdout",
     "output_type": "stream",
     "text": [
      "Video tennis with n=69\n"
     ]
    },
    {
     "name": "stderr",
     "output_type": "stream",
     "text": [
      " 77%|███████▋  | 69/90 [04:06<01:20,  3.82s/it]"
     ]
    },
    {
     "name": "stdout",
     "output_type": "stream",
     "text": [
      "Video motocross-bumps with n=59\n"
     ]
    },
    {
     "name": "stderr",
     "output_type": "stream",
     "text": [
      " 78%|███████▊  | 70/90 [04:09<01:11,  3.59s/it]"
     ]
    },
    {
     "name": "stdout",
     "output_type": "stream",
     "text": [
      "Video dance-twirl with n=89\n"
     ]
    },
    {
     "name": "stderr",
     "output_type": "stream",
     "text": [
      " 79%|███████▉  | 71/90 [04:14<01:14,  3.91s/it]"
     ]
    },
    {
     "name": "stdout",
     "output_type": "stream",
     "text": [
      "Video rhino with n=89\n"
     ]
    },
    {
     "name": "stderr",
     "output_type": "stream",
     "text": [
      " 80%|████████  | 72/90 [04:18<01:14,  4.14s/it]"
     ]
    },
    {
     "name": "stdout",
     "output_type": "stream",
     "text": [
      "Video rollerblade with n=34\n"
     ]
    },
    {
     "name": "stderr",
     "output_type": "stream",
     "text": [
      " 81%|████████  | 73/90 [04:20<00:58,  3.42s/it]"
     ]
    },
    {
     "name": "stdout",
     "output_type": "stream",
     "text": [
      "Video kid-football with n=67\n"
     ]
    },
    {
     "name": "stderr",
     "output_type": "stream",
     "text": [
      " 82%|████████▏ | 74/90 [04:23<00:54,  3.42s/it]"
     ]
    },
    {
     "name": "stdout",
     "output_type": "stream",
     "text": [
      "Video dancing with n=61\n"
     ]
    },
    {
     "name": "stderr",
     "output_type": "stream",
     "text": [
      " 83%|████████▎ | 75/90 [04:27<00:50,  3.35s/it]"
     ]
    },
    {
     "name": "stdout",
     "output_type": "stream",
     "text": [
      "Video car-shadow with n=39\n"
     ]
    },
    {
     "name": "stderr",
     "output_type": "stream",
     "text": [
      " 84%|████████▍ | 76/90 [04:29<00:41,  2.95s/it]"
     ]
    },
    {
     "name": "stdout",
     "output_type": "stream",
     "text": [
      "Video paragliding-launch with n=79\n"
     ]
    },
    {
     "name": "stderr",
     "output_type": "stream",
     "text": [
      " 86%|████████▌ | 77/90 [04:33<00:43,  3.32s/it]"
     ]
    },
    {
     "name": "stdout",
     "output_type": "stream",
     "text": [
      "Video cat-girl with n=88\n"
     ]
    },
    {
     "name": "stderr",
     "output_type": "stream",
     "text": [
      " 87%|████████▋ | 78/90 [04:38<00:45,  3.79s/it]"
     ]
    },
    {
     "name": "stdout",
     "output_type": "stream",
     "text": [
      "Video horsejump-low with n=59\n"
     ]
    },
    {
     "name": "stderr",
     "output_type": "stream",
     "text": [
      " 88%|████████▊ | 79/90 [04:41<00:39,  3.58s/it]"
     ]
    },
    {
     "name": "stdout",
     "output_type": "stream",
     "text": [
      "Video miami-surf with n=69\n"
     ]
    },
    {
     "name": "stderr",
     "output_type": "stream",
     "text": [
      " 89%|████████▉ | 80/90 [04:44<00:35,  3.58s/it]"
     ]
    },
    {
     "name": "stdout",
     "output_type": "stream",
     "text": [
      "Video snowboard with n=65\n"
     ]
    },
    {
     "name": "stderr",
     "output_type": "stream",
     "text": [
      " 90%|█████████ | 81/90 [04:48<00:31,  3.53s/it]"
     ]
    },
    {
     "name": "stdout",
     "output_type": "stream",
     "text": [
      "Video stroller with n=90\n"
     ]
    },
    {
     "name": "stderr",
     "output_type": "stream",
     "text": [
      " 91%|█████████ | 82/90 [04:53<00:31,  3.89s/it]"
     ]
    },
    {
     "name": "stdout",
     "output_type": "stream",
     "text": [
      "Video bear with n=81\n"
     ]
    },
    {
     "name": "stderr",
     "output_type": "stream",
     "text": [
      " 92%|█████████▏| 83/90 [04:57<00:27,  3.99s/it]"
     ]
    },
    {
     "name": "stdout",
     "output_type": "stream",
     "text": [
      "Video bmx-bumps with n=89\n"
     ]
    },
    {
     "name": "stderr",
     "output_type": "stream",
     "text": [
      " 93%|█████████▎| 84/90 [05:01<00:25,  4.19s/it]"
     ]
    },
    {
     "name": "stdout",
     "output_type": "stream",
     "text": [
      "Video classic-car with n=62\n"
     ]
    },
    {
     "name": "stderr",
     "output_type": "stream",
     "text": [
      " 94%|█████████▍| 85/90 [05:05<00:19,  3.88s/it]"
     ]
    },
    {
     "name": "stdout",
     "output_type": "stream",
     "text": [
      "Video motocross-jump with n=39\n"
     ]
    },
    {
     "name": "stderr",
     "output_type": "stream",
     "text": [
      " 96%|█████████▌| 86/90 [05:07<00:13,  3.31s/it]"
     ]
    },
    {
     "name": "stdout",
     "output_type": "stream",
     "text": [
      "Video dogs-scale with n=82\n"
     ]
    },
    {
     "name": "stderr",
     "output_type": "stream",
     "text": [
      " 97%|█████████▋| 87/90 [05:11<00:10,  3.62s/it]"
     ]
    },
    {
     "name": "stdout",
     "output_type": "stream",
     "text": [
      "Video train with n=79\n"
     ]
    },
    {
     "name": "stderr",
     "output_type": "stream",
     "text": [
      " 98%|█████████▊| 88/90 [05:15<00:07,  3.78s/it]"
     ]
    },
    {
     "name": "stdout",
     "output_type": "stream",
     "text": [
      "Video tuk-tuk with n=58\n"
     ]
    },
    {
     "name": "stderr",
     "output_type": "stream",
     "text": [
      " 99%|█████████▉| 89/90 [05:18<00:03,  3.57s/it]"
     ]
    },
    {
     "name": "stdout",
     "output_type": "stream",
     "text": [
      "Video sheep with n=67\n"
     ]
    },
    {
     "name": "stderr",
     "output_type": "stream",
     "text": [
      "100%|██████████| 90/90 [05:22<00:00,  3.58s/it]"
     ]
    },
    {
     "name": "stdout",
     "output_type": "stream",
     "text": [
      "J = 0.3313639473218747, F = 0.3751784244772611, J&F = 0.35327118589956785\n"
     ]
    },
    {
     "name": "stderr",
     "output_type": "stream",
     "text": [
      "\n"
     ]
    },
    {
     "data": {
      "text/plain": [
       "array([0.33136395, 0.37517842])"
      ]
     },
     "execution_count": 2,
     "metadata": {},
     "output_type": "execute_result"
    }
   ],
   "source": [
    "model_path = \"./SIAM_JOINT_DEC_5.pt\"\n",
    "model = sim_mae_vit_tiny_patch8_dec512d8b(use_joint_dec=True)\n",
    "model = model.to(device)\n",
    "state_dict = torch.load(model_path)\n",
    "state_dict = {k.replace(\"module.\", \"\"): v for k, v in state_dict.items()}\n",
    "model.load_state_dict(state_dict)\n",
    "\n",
    "test_name = \"SIAM_JOINT_DEC_5\"\n",
    "\n",
    "for video_name in video_names:\n",
    "    eval_video(model, test_name, video_name, videos_path, labels_path, queue_length=20, topk=7, size_neighbourhood=7, output_dir=\"./outputs/\")\n",
    "eval_model(video_names, videos_path, labels_path, \"./outputs/\", test_name)"
   ]
  }
 ],
 "metadata": {
  "kernelspec": {
   "display_name": "evit_env",
   "language": "python",
   "name": "python3"
  },
  "language_info": {
   "codemirror_mode": {
    "name": "ipython",
    "version": 3
   },
   "file_extension": ".py",
   "mimetype": "text/x-python",
   "name": "python",
   "nbconvert_exporter": "python",
   "pygments_lexer": "ipython3",
   "version": "3.10.15"
  }
 },
 "nbformat": 4,
 "nbformat_minor": 2
}
