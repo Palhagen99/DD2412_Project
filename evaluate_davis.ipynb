{
 "cells": [
  {
   "cell_type": "markdown",
   "metadata": {
    "id": "_UnZ9Sd2_oN4"
   },
   "source": [
    "# DD2412 Project"
   ]
  },
  {
   "cell_type": "code",
   "execution_count": null,
   "metadata": {
    "colab": {
     "base_uri": "https://localhost:8080/",
     "height": 565
    },
    "id": "u4N2pcuz_oN4",
    "outputId": "a7a0649d-9ca6-428b-ba59-aa8b47bc0cec"
   },
   "outputs": [
    {
     "name": "stderr",
     "output_type": "stream",
     "text": [
      "c:\\KTH\\DD2412\\DD2412_Project\\.conda\\lib\\site-packages\\tqdm\\auto.py:21: TqdmWarning: IProgress not found. Please update jupyter and ipywidgets. See https://ipywidgets.readthedocs.io/en/stable/user_install.html\n",
      "  from .autonotebook import tqdm as notebook_tqdm\n"
     ]
    }
   ],
   "source": [
    "from models_mae import *\n",
    "from train import *\n",
    "from pos_embed import *\n",
    "from eval import *"
   ]
  },
  {
   "cell_type": "markdown",
   "metadata": {
    "id": "s36BuulX_oN5"
   },
   "source": [
    "### Load model"
   ]
  },
  {
   "cell_type": "code",
   "execution_count": 2,
   "metadata": {
    "id": "O3dhrnAm_oN5",
    "outputId": "fec0d217-7e0a-4fc0-e21e-c58152f87474"
   },
   "outputs": [
    {
     "name": "stderr",
     "output_type": "stream",
     "text": [
      "C:\\Users\\Erik H\\AppData\\Local\\Temp\\ipykernel_7500\\2689243158.py:5: FutureWarning: You are using `torch.load` with `weights_only=False` (the current default value), which uses the default pickle module implicitly. It is possible to construct malicious pickle data which will execute arbitrary code during unpickling (See https://github.com/pytorch/pytorch/blob/main/SECURITY.md#untrusted-models for more details). In a future release, the default value for `weights_only` will be flipped to `True`. This limits the functions that could be executed during unpickling. Arbitrary objects will no longer be allowed to be loaded via this mode unless they are explicitly allowlisted by the user via `torch.serialization.add_safe_globals`. We recommend you start setting `weights_only=True` for any use case where you don't have full control of the loaded file. Please open an issue on GitHub for any issues related to this experimental feature.\n",
      "  state_dict = torch.load(model_path)\n"
     ]
    },
    {
     "data": {
      "text/plain": [
       "<All keys matched successfully>"
      ]
     },
     "execution_count": 2,
     "metadata": {},
     "output_type": "execute_result"
    }
   ],
   "source": [
    "model_path = \"./epoch_0.pt\"\n",
    "device = torch.device(\"cuda\" if torch.cuda.is_available() else \"cpu\")\n",
    "model = sim_mae_vit_tiny_patch8_dec512d8b()\n",
    "model = model.to(device)\n",
    "state_dict = torch.load(model_path)\n",
    "state_dict = {k.replace(\"module.\", \"\"): v for k, v in state_dict.items()}\n",
    "model.load_state_dict(state_dict)"
   ]
  },
  {
   "cell_type": "markdown",
   "metadata": {
    "id": "U1Ws4714_oN5"
   },
   "source": [
    "### Evaluation & Inference"
   ]
  },
  {
   "cell_type": "code",
   "execution_count": 3,
   "metadata": {
    "id": "-uwlN_HQ_oN5",
    "outputId": "266229e7-76a0-4038-c60d-73f4bbbce3a6"
   },
   "outputs": [
    {
     "name": "stderr",
     "output_type": "stream",
     "text": [
      "Processing frames:   0%|          | 0/81 [00:00<?, ?it/s]c:\\KTH\\DD2412\\DD2412_Project\\eval.py:168: UserWarning: torch.sparse.SparseTensor(indices, values, shape, *, device=) is deprecated.  Please use torch.sparse_coo_tensor(indices, values, shape, dtype=, device=). (Triggered internally at C:\\cb\\pytorch_1000000000000\\work\\torch\\csrc\\utils\\tensor_new.cpp:653.)\n",
      "  mask = torch.sparse.FloatTensor(\n",
      "Processing frames: 100%|██████████| 81/81 [00:11<00:00,  6.78it/s]\n"
     ]
    }
   ],
   "source": [
    "videos_path = './data/DAVIS/JPEGImages/480p'\n",
    "labels_path = './data/DAVIS/Annotations/480p'\n",
    "video_name = 'bear'\n",
    "output_dir = './output/davis'\n",
    "eval_video(model, \"test2\", video_name, videos_path, labels_path, 20, 7, 20, output_dir)\n",
    "#eval_davis(model, video_name, videos_path, labels_path, 20, 0.1, 7, 20, 'test2', output_dir, patch_size=8, dino=False)"
   ]
  }
 ],
 "metadata": {
  "colab": {
   "provenance": []
  },
  "kernelspec": {
   "display_name": "Python 3",
   "language": "python",
   "name": "python3"
  },
  "language_info": {
   "codemirror_mode": {
    "name": "ipython",
    "version": 3
   },
   "file_extension": ".py",
   "mimetype": "text/x-python",
   "name": "python",
   "nbconvert_exporter": "python",
   "pygments_lexer": "ipython3",
   "version": "3.10.15"
  }
 },
 "nbformat": 4,
 "nbformat_minor": 0
}
